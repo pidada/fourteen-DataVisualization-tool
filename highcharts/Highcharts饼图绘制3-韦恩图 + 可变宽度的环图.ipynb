{
 "cells": [
  {
   "cell_type": "markdown",
   "metadata": {},
   "source": [
    "### 韦恩图"
   ]
  },
  {
   "cell_type": "code",
   "execution_count": 1,
   "metadata": {},
   "outputs": [
    {
     "ename": "KeyError",
     "evalue": "'venn'",
     "output_type": "error",
     "traceback": [
      "\u001b[0;31m---------------------------------------------------------------------------\u001b[0m",
      "\u001b[0;31mKeyError\u001b[0m                                  Traceback (most recent call last)",
      "\u001b[0;32m<ipython-input-1-fc15d22c2d75>\u001b[0m in \u001b[0;36m<module>\u001b[0;34m\u001b[0m\n\u001b[1;32m     43\u001b[0m H.add_data_set(data,\n\u001b[1;32m     44\u001b[0m                \u001b[0;34m'venn'\u001b[0m\u001b[0;34m,\u001b[0m\u001b[0;34m\u001b[0m\u001b[0;34m\u001b[0m\u001b[0m\n\u001b[0;32m---> 45\u001b[0;31m                'The Unattainable Triangle')\n\u001b[0m\u001b[1;32m     46\u001b[0m \u001b[0;34m\u001b[0m\u001b[0m\n\u001b[1;32m     47\u001b[0m \u001b[0mprint\u001b[0m\u001b[0;34m(\u001b[0m\u001b[0mH\u001b[0m\u001b[0;34m.\u001b[0m\u001b[0mhtmlcontent\u001b[0m\u001b[0;34m)\u001b[0m\u001b[0;34m\u001b[0m\u001b[0;34m\u001b[0m\u001b[0m\n",
      "\u001b[0;32m/Applications/downloads/anaconda/anaconda3/lib/python3.7/site-packages/highcharts/highcharts/highcharts.py\u001b[0m in \u001b[0;36madd_data_set\u001b[0;34m(self, data, series_type, name, **kwargs)\u001b[0m\n\u001b[1;32m    212\u001b[0m         \u001b[0mseries_data\u001b[0m \u001b[0;34m=\u001b[0m \u001b[0mSeries\u001b[0m\u001b[0;34m(\u001b[0m\u001b[0mdata\u001b[0m\u001b[0;34m,\u001b[0m \u001b[0mseries_type\u001b[0m\u001b[0;34m=\u001b[0m\u001b[0mseries_type\u001b[0m\u001b[0;34m,\u001b[0m \u001b[0;34m**\u001b[0m\u001b[0mkwargs\u001b[0m\u001b[0;34m)\u001b[0m\u001b[0;34m\u001b[0m\u001b[0;34m\u001b[0m\u001b[0m\n\u001b[1;32m    213\u001b[0m \u001b[0;34m\u001b[0m\u001b[0m\n\u001b[0;32m--> 214\u001b[0;31m         \u001b[0mseries_data\u001b[0m\u001b[0;34m.\u001b[0m\u001b[0m__options__\u001b[0m\u001b[0;34m(\u001b[0m\u001b[0;34m)\u001b[0m\u001b[0;34m.\u001b[0m\u001b[0mupdate\u001b[0m\u001b[0;34m(\u001b[0m\u001b[0mSeriesOptions\u001b[0m\u001b[0;34m(\u001b[0m\u001b[0mseries_type\u001b[0m\u001b[0;34m=\u001b[0m\u001b[0mseries_type\u001b[0m\u001b[0;34m,\u001b[0m \u001b[0;34m**\u001b[0m\u001b[0mkwargs\u001b[0m\u001b[0;34m)\u001b[0m\u001b[0;34m.\u001b[0m\u001b[0m__options__\u001b[0m\u001b[0;34m(\u001b[0m\u001b[0;34m)\u001b[0m\u001b[0;34m)\u001b[0m\u001b[0;34m\u001b[0m\u001b[0;34m\u001b[0m\u001b[0m\n\u001b[0m\u001b[1;32m    215\u001b[0m         \u001b[0mself\u001b[0m\u001b[0;34m.\u001b[0m\u001b[0mdata_temp\u001b[0m\u001b[0;34m.\u001b[0m\u001b[0mappend\u001b[0m\u001b[0;34m(\u001b[0m\u001b[0mseries_data\u001b[0m\u001b[0;34m)\u001b[0m\u001b[0;34m\u001b[0m\u001b[0;34m\u001b[0m\u001b[0m\n\u001b[1;32m    216\u001b[0m \u001b[0;34m\u001b[0m\u001b[0m\n",
      "\u001b[0;32m/Applications/downloads/anaconda/anaconda3/lib/python3.7/site-packages/highcharts/highcharts/highchart_types.py\u001b[0m in \u001b[0;36m__init__\u001b[0;34m(self, series_type, supress_errors, **kwargs)\u001b[0m\n\u001b[1;32m    503\u001b[0m \u001b[0;34m\u001b[0m\u001b[0m\n\u001b[1;32m    504\u001b[0m     \u001b[0;32mdef\u001b[0m \u001b[0m__init__\u001b[0m\u001b[0;34m(\u001b[0m\u001b[0mself\u001b[0m\u001b[0;34m,\u001b[0m\u001b[0mseries_type\u001b[0m\u001b[0;34m=\u001b[0m\u001b[0;34m\"line\"\u001b[0m\u001b[0;34m,\u001b[0m\u001b[0msupress_errors\u001b[0m\u001b[0;34m=\u001b[0m\u001b[0;32mFalse\u001b[0m\u001b[0;34m,\u001b[0m\u001b[0;34m**\u001b[0m\u001b[0mkwargs\u001b[0m\u001b[0;34m)\u001b[0m\u001b[0;34m:\u001b[0m\u001b[0;34m\u001b[0m\u001b[0;34m\u001b[0m\u001b[0m\n\u001b[0;32m--> 505\u001b[0;31m         \u001b[0mself\u001b[0m\u001b[0;34m.\u001b[0m\u001b[0mload_defaults\u001b[0m\u001b[0;34m(\u001b[0m\u001b[0mseries_type\u001b[0m\u001b[0;34m)\u001b[0m\u001b[0;34m\u001b[0m\u001b[0;34m\u001b[0m\u001b[0m\n\u001b[0m\u001b[1;32m    506\u001b[0m         \u001b[0mself\u001b[0m\u001b[0;34m.\u001b[0m\u001b[0mprocess_kwargs\u001b[0m\u001b[0;34m(\u001b[0m\u001b[0mkwargs\u001b[0m\u001b[0;34m,\u001b[0m\u001b[0mseries_type\u001b[0m\u001b[0;34m=\u001b[0m\u001b[0mseries_type\u001b[0m\u001b[0;34m,\u001b[0m\u001b[0msupress_errors\u001b[0m\u001b[0;34m=\u001b[0m\u001b[0msupress_errors\u001b[0m\u001b[0;34m)\u001b[0m\u001b[0;34m\u001b[0m\u001b[0;34m\u001b[0m\u001b[0m\n\u001b[1;32m    507\u001b[0m \u001b[0;34m\u001b[0m\u001b[0m\n",
      "\u001b[0;32m/Applications/downloads/anaconda/anaconda3/lib/python3.7/site-packages/highcharts/highcharts/highchart_types.py\u001b[0m in \u001b[0;36mload_defaults\u001b[0;34m(self, series_type)\u001b[0m\n\u001b[1;32m    608\u001b[0m \u001b[0;34m\u001b[0m\u001b[0m\n\u001b[1;32m    609\u001b[0m     \u001b[0;32mdef\u001b[0m \u001b[0mload_defaults\u001b[0m\u001b[0;34m(\u001b[0m\u001b[0mself\u001b[0m\u001b[0;34m,\u001b[0m\u001b[0mseries_type\u001b[0m\u001b[0;34m)\u001b[0m\u001b[0;34m:\u001b[0m \u001b[0;31m# not in use\u001b[0m\u001b[0;34m\u001b[0m\u001b[0;34m\u001b[0m\u001b[0m\n\u001b[0;32m--> 610\u001b[0;31m         \u001b[0mself\u001b[0m\u001b[0;34m.\u001b[0m\u001b[0mprocess_kwargs\u001b[0m\u001b[0;34m(\u001b[0m\u001b[0mDEFAULT_OPTIONS\u001b[0m\u001b[0;34m.\u001b[0m\u001b[0mget\u001b[0m\u001b[0;34m(\u001b[0m\u001b[0mseries_type\u001b[0m\u001b[0;34m,\u001b[0m\u001b[0;34m{\u001b[0m\u001b[0;34m}\u001b[0m\u001b[0;34m)\u001b[0m\u001b[0;34m,\u001b[0m\u001b[0mseries_type\u001b[0m\u001b[0;34m)\u001b[0m\u001b[0;34m\u001b[0m\u001b[0;34m\u001b[0m\u001b[0m\n\u001b[0m\u001b[1;32m    611\u001b[0m \u001b[0;34m\u001b[0m\u001b[0m\n\u001b[1;32m    612\u001b[0m     \u001b[0;32mdef\u001b[0m \u001b[0m__getattr__\u001b[0m\u001b[0;34m(\u001b[0m\u001b[0mself\u001b[0m\u001b[0;34m,\u001b[0m\u001b[0mitem\u001b[0m\u001b[0;34m)\u001b[0m\u001b[0;34m:\u001b[0m\u001b[0;34m\u001b[0m\u001b[0;34m\u001b[0m\u001b[0m\n",
      "\u001b[0;32m/Applications/downloads/anaconda/anaconda3/lib/python3.7/site-packages/highcharts/highcharts/highchart_types.py\u001b[0m in \u001b[0;36mprocess_kwargs\u001b[0;34m(self, kwargs, series_type, supress_errors)\u001b[0m\n\u001b[1;32m    578\u001b[0m \u001b[0;34m\u001b[0m\u001b[0m\n\u001b[1;32m    579\u001b[0m     \u001b[0;32mdef\u001b[0m \u001b[0mprocess_kwargs\u001b[0m\u001b[0;34m(\u001b[0m\u001b[0mself\u001b[0m\u001b[0;34m,\u001b[0m\u001b[0mkwargs\u001b[0m\u001b[0;34m,\u001b[0m\u001b[0mseries_type\u001b[0m\u001b[0;34m,\u001b[0m\u001b[0msupress_errors\u001b[0m\u001b[0;34m=\u001b[0m\u001b[0;32mFalse\u001b[0m\u001b[0;34m)\u001b[0m\u001b[0;34m:\u001b[0m\u001b[0;34m\u001b[0m\u001b[0;34m\u001b[0m\u001b[0m\n\u001b[0;32m--> 580\u001b[0;31m         \u001b[0mallowed_args\u001b[0m \u001b[0;34m=\u001b[0m \u001b[0mPLOT_OPTION_ALLOWED_ARGS\u001b[0m\u001b[0;34m[\u001b[0m\u001b[0mseries_type\u001b[0m\u001b[0;34m]\u001b[0m\u001b[0;34m\u001b[0m\u001b[0;34m\u001b[0m\u001b[0m\n\u001b[0m\u001b[1;32m    581\u001b[0m         \u001b[0mallowed_args\u001b[0m\u001b[0;34m.\u001b[0m\u001b[0mupdate\u001b[0m\u001b[0;34m(\u001b[0m\u001b[0mPLOT_OPTION_ALLOWED_ARGS\u001b[0m\u001b[0;34m[\u001b[0m\u001b[0;34m\"common\"\u001b[0m\u001b[0;34m]\u001b[0m\u001b[0;34m)\u001b[0m\u001b[0;34m\u001b[0m\u001b[0;34m\u001b[0m\u001b[0m\n\u001b[1;32m    582\u001b[0m \u001b[0;34m\u001b[0m\u001b[0m\n",
      "\u001b[0;31mKeyError\u001b[0m: 'venn'"
     ]
    }
   ],
   "source": [
    "from highcharts import Highchart   # 导入库\n",
    "H = Highchart(width=800, height=600)  # 设置图形的大小\n",
    "\n",
    "\n",
    "options = {\n",
    "    'title': {\n",
    "        'text': 'The Unattainable Triangle'\n",
    "    }\n",
    "}\n",
    "\n",
    "\n",
    "data = [{\n",
    "\t\t\t'sets': ['Good'],\n",
    "\t\t\t'value': 2\n",
    "\t\t}, {\n",
    "\t\t\t'sets': ['Fast'], \n",
    "\t\t\t'value': 2\n",
    "\t\t}, {\n",
    "\t\t\t'sets': ['Cheap'],\n",
    "\t\t\t'value': 2\n",
    "\t\t}, {\n",
    "\t\t\t'sets': ['Good', 'Fast'],\n",
    "\t\t\t'value': 1,\n",
    "\t\t\t'name': 'More expensive'\n",
    "\t\t}, {\n",
    "\t\t\t'sets': ['Good', 'Cheap'],\n",
    "\t\t\t'value': 1,\n",
    "\t\t\t'name': 'Will take time to deliver'\n",
    "\t\t}, {\n",
    "\t\t\t'sets': ['Fast', 'Cheap'],\n",
    "\t\t\t'value': 1,\n",
    "\t\t\t'name': 'Not the best quality'\n",
    "\t\t}, {\n",
    "\t\t\t'sets': ['Fast', 'Cheap', 'Good'],\n",
    "\t\t\t'value': 1,\n",
    "\t\t\t'name': 'They\\'re dreaming'\n",
    "\t\t}]\n",
    "\n",
    "# 添加配置\n",
    "H.set_dict_options(options)   \n",
    "\n",
    "# 将之前的bar改成column即可\n",
    "H.add_data_set(data,\n",
    "               'venn',\n",
    "               'The Unattainable Triangle')\n",
    "\n",
    "print(H.htmlcontent)"
   ]
  },
  {
   "cell_type": "markdown",
   "metadata": {},
   "source": [
    "### 可变宽度的环图"
   ]
  },
  {
   "cell_type": "code",
   "execution_count": 24,
   "metadata": {},
   "outputs": [
    {
     "data": {
      "text/html": [
       "<iframe style=\"border:0;outline:none;overflow:hidden\" srcdoc=\"&lt;!DOCTYPE html&gt; &lt;html lang=&quot;en&quot;&gt; &lt;head&gt; &lt;meta charset=&quot;utf-8&quot; /&gt; &lt;link href=&quot;https://www.highcharts.com/highslide/highslide.css&quot; rel=&quot;stylesheet&quot; /&gt; &lt;script type=&quot;text/javascript&quot; src=&quot;https://ajax.googleapis.com/ajax/libs/jquery/1.9.1/jquery.min.js&quot;&gt;&lt;/script&gt; &lt;script type=&quot;text/javascript&quot; src=&quot;https://code.highcharts.com/6/highcharts.js&quot;&gt;&lt;/script&gt; &lt;script type=&quot;text/javascript&quot; src=&quot;https://code.highcharts.com/6/highcharts-more.js&quot;&gt;&lt;/script&gt; &lt;script type=&quot;text/javascript&quot; src=&quot;https://code.highcharts.com/6/modules/heatmap.js&quot;&gt;&lt;/script&gt; &lt;script type=&quot;text/javascript&quot; src=&quot;https://code.highcharts.com/6/modules/exporting.js&quot;&gt;&lt;/script&gt; &lt;/head&gt; &lt;body style=&quot;margin:0;padding:0&quot;&gt; &lt;div id=&quot;container&quot; style=&quot;width:800px;height:600px;&quot;&gt;Loading....&lt;/div&gt; &lt;script&gt; $(function(){ Highcharts.setOptions({&quot;global&quot;: {}, &quot;lang&quot;: {}}); var option = {&quot;chart&quot;: {&quot;renderTo&quot;: &quot;container&quot;, &quot;width&quot;: 800, &quot;height&quot;: 600, &quot;type&quot;: &quot;variablepie&quot;}, &quot;colors&quot;: {}, &quot;credits&quot;: {&quot;enabled&quot;: false}, &quot;drilldown&quot;: {}, &quot;exporting&quot;: {}, &quot;labels&quot;: {}, &quot;legend&quot;: {}, &quot;loading&quot;: {}, &quot;navigation&quot;: {}, &quot;pane&quot;: {}, &quot;plotOptions&quot;: {&quot;pie&quot;: {&quot;cursor&quot;: &quot;pointer&quot;}}, &quot;series&quot;: {}, &quot;subtitle&quot;: {&quot;text&quot;: &quot;\\u6247\\u533a\\u957f\\u5ea6\\uff08\\u5706\\u5468\\u65b9\\u6cd5\\uff09\\u8868\\u793a\\u9762\\u79ef\\uff0c\\u5bbd\\u5ea6\\uff08\\u7eb5\\u5411\\uff09\\u8868\\u793a\\u4eba\\u53e3\\u5bc6\\u5ea6&quot;}, &quot;title&quot;: {&quot;text&quot;: &quot;\\u4e0d\\u540c\\u56fd\\u5bb6\\u4eba\\u53e3\\u5bc6\\u5ea6\\u53ca\\u9762\\u79ef\\u5bf9\\u6bd4&quot;}, &quot;tooltip&quot;: {&quot;headerFormat&quot;: &quot;&quot;, &quot;pointFormat&quot;: &quot;&lt;span style=\\&quot;color:{point.color}\\&quot;&gt;\\u25cf&lt;/span&gt; &lt;b&gt; {point.name}&lt;/b&gt;&lt;br/&gt;\\u9762\\u79ef (\\u5e73\\u65b9\\u5343\\u7c73): &lt;b&gt;{point.y}&lt;/b&gt;&lt;br/&gt;\\u4eba\\u53e3\\u5bc6\\u5ea6 (\\u6bcf\\u5e73\\u65b9\\u5343\\u7c73\\u4eba\\u6570): &lt;b&gt;{point.z}&lt;/b&gt;&lt;br/&gt;&quot;}, &quot;xAxis&quot;: {}, &quot;yAxis&quot;: {}}; var chart = new Highcharts.Chart(option); var data = [{&quot;data&quot;: [{&quot;name&quot;: &quot;\\u897f\\u73ed\\u7259&quot;, &quot;y&quot;: 505370, &quot;z&quot;: 92.9}, {&quot;name&quot;: &quot;\\u6cd5\\u56fd&quot;, &quot;y&quot;: 551500, &quot;z&quot;: 118.7}, {&quot;name&quot;: &quot;\\u6ce2\\u5170&quot;, &quot;y&quot;: 312685, &quot;z&quot;: 124.6}, {&quot;name&quot;: &quot;\\u6377\\u514b\\u5171\\u548c\\u56fd&quot;, &quot;y&quot;: 78867, &quot;z&quot;: 137.5}, {&quot;name&quot;: &quot;\\u610f\\u5927\\u5229&quot;, &quot;y&quot;: 301340, &quot;z&quot;: 201.8}, {&quot;name&quot;: &quot;\\u745e\\u58eb&quot;, &quot;y&quot;: 41277, &quot;z&quot;: 214.5}, {&quot;name&quot;: &quot;\\u5fb7\\u56fd&quot;, &quot;y&quot;: 357022, &quot;z&quot;: 235.6}], &quot;type&quot;: &quot;pie&quot;, &quot;name&quot;: &quot;\\u53ef\\u53d8\\u5bbd\\u5ea6\\u7684\\u73af\\u56fe&quot;, &quot;innerSize&quot;: &quot;25%&quot;}]; var dataLen = data.length; for (var ix = 0; ix &lt; dataLen; ix++) { chart.addSeries(data[ix]); } }); &lt;/script&gt; &lt;/body&gt; &lt;/html&gt;\" height=600 width=800></iframe>"
      ],
      "text/plain": [
       "<highcharts.highcharts.highcharts.Highchart at 0x10f4bd690>"
      ]
     },
     "execution_count": 24,
     "metadata": {},
     "output_type": "execute_result"
    }
   ],
   "source": [
    "from highcharts import Highchart   # 导入库\n",
    "H = Highchart(width=800, height=600)  # 设置图形的大小\n",
    "\n",
    "options =  {\n",
    "\t'chart': {\n",
    "\t\t'type': 'variablepie'\n",
    "\t},\n",
    "\t'title': {\n",
    "\t\t'text': '不同国家人口密度及面积对比'\n",
    "\t},\n",
    "\t'subtitle': {\n",
    "\t\t'text': '扇区长度（圆周方法）表示面积，宽度（纵向）表示人口密度'  \n",
    "\t},\n",
    "\t'tooltip': {\n",
    "\t\t'headerFormat': '',\n",
    "\t\t'pointFormat': '<span style=\"color:{point.color}\">\\u25CF</span> <b> {point.name}</b><br/>' +\n",
    "\t\t'面积 (平方千米): <b>{point.y}</b><br/>' +\n",
    "\t\t'人口密度 (每平方千米人数): <b>{point.z}</b><br/>'\n",
    "\t},\n",
    "    'plotOptions': {\n",
    "\t\t'pie': {\n",
    "\t\t\t'cursor': 'pointer'\n",
    "\t\t}\n",
    "\t}\n",
    "}\n",
    "\n",
    "\n",
    "data = [{\n",
    "        'name': '西班牙',\n",
    "        'y': 505370,\n",
    "        'z': 92.9\n",
    "    }, {\n",
    "        'name': '法国',\n",
    "        'y': 551500,\n",
    "        'z': 118.7\n",
    "    }, {\n",
    "        'name': '波兰',\n",
    "        'y': 312685,\n",
    "        'z': 124.6\n",
    "    }, {\n",
    "        'name': '捷克共和国',\n",
    "        'y': 78867,\n",
    "        'z': 137.5\n",
    "    }, {\n",
    "        'name': '意大利',\n",
    "        'y': 301340,\n",
    "        'z': 201.8\n",
    "    }, {\n",
    "        'name': '瑞士',\n",
    "        'y': 41277,\n",
    "        'z': 214.5\n",
    "    }, {\n",
    "        'name': '德国',\n",
    "        'y': 357022,\n",
    "        'z': 235.6\n",
    "    }]\n",
    "\n",
    "\n",
    "# 添加配置\n",
    "H.set_dict_options(options)   \n",
    "\n",
    "H.add_data_set(data,   # 数据\n",
    "               'pie',  # 设置图表类型\n",
    "               '可变宽度的环图',  # 图标名称\n",
    "#                minPointSize=50,\n",
    "               innerSize='25%',  # 设置中心空白圆形的大小\n",
    "               zMin=0  # z的最小是\n",
    "              )\n",
    "\n",
    "H"
   ]
  },
  {
   "cell_type": "code",
   "execution_count": null,
   "metadata": {},
   "outputs": [],
   "source": []
  }
 ],
 "metadata": {
  "hide_input": false,
  "kernelspec": {
   "display_name": "Python 3",
   "language": "python",
   "name": "python3"
  },
  "language_info": {
   "codemirror_mode": {
    "name": "ipython",
    "version": 3
   },
   "file_extension": ".py",
   "mimetype": "text/x-python",
   "name": "python",
   "nbconvert_exporter": "python",
   "pygments_lexer": "ipython3",
   "version": "3.7.5"
  },
  "latex_envs": {
   "LaTeX_envs_menu_present": true,
   "autoclose": false,
   "autocomplete": true,
   "bibliofile": "biblio.bib",
   "cite_by": "apalike",
   "current_citInitial": 1,
   "eqLabelWithNumbers": true,
   "eqNumInitial": 1,
   "hotkeys": {
    "equation": "Ctrl-E",
    "itemize": "Ctrl-I"
   },
   "labels_anchors": false,
   "latex_user_defs": false,
   "report_style_numbering": false,
   "user_envs_cfg": false
  },
  "nbTranslate": {
   "displayLangs": [
    "*"
   ],
   "hotkey": "alt-t",
   "langInMainMenu": true,
   "sourceLang": "en",
   "targetLang": "fr",
   "useGoogleTranslate": true
  },
  "toc": {
   "base_numbering": 1,
   "nav_menu": {},
   "number_sections": true,
   "sideBar": true,
   "skip_h1_title": false,
   "title_cell": "Table of Contents",
   "title_sidebar": "Contents",
   "toc_cell": false,
   "toc_position": {},
   "toc_section_display": true,
   "toc_window_display": false
  },
  "varInspector": {
   "cols": {
    "lenName": 16,
    "lenType": 16,
    "lenVar": 40
   },
   "kernels_config": {
    "python": {
     "delete_cmd_postfix": "",
     "delete_cmd_prefix": "del ",
     "library": "var_list.py",
     "varRefreshCmd": "print(var_dic_list())"
    },
    "r": {
     "delete_cmd_postfix": ") ",
     "delete_cmd_prefix": "rm(",
     "library": "var_list.r",
     "varRefreshCmd": "cat(var_dic_list()) "
    }
   },
   "types_to_exclude": [
    "module",
    "function",
    "builtin_function_or_method",
    "instance",
    "_Feature"
   ],
   "window_display": false
  }
 },
 "nbformat": 4,
 "nbformat_minor": 2
}
