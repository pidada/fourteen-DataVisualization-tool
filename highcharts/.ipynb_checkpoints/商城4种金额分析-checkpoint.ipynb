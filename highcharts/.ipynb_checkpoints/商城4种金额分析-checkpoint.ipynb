{
 "cells": [
  {
   "cell_type": "code",
   "execution_count": 9,
   "metadata": {},
   "outputs": [
    {
     "ename": "TypeError",
     "evalue": "'dict' object is not callable",
     "output_type": "error",
     "traceback": [
      "\u001b[0;31m---------------------------------------------------------------------------\u001b[0m",
      "\u001b[0;31mTypeError\u001b[0m                                 Traceback (most recent call last)",
      "\u001b[0;32m<ipython-input-9-eaf046682e1a>\u001b[0m in \u001b[0;36m<module>\u001b[0;34m\u001b[0m\n\u001b[1;32m    101\u001b[0m \u001b[0;34m\u001b[0m\u001b[0m\n\u001b[1;32m    102\u001b[0m \u001b[0;31m# 使主题配置生效\u001b[0m\u001b[0;34m\u001b[0m\u001b[0;34m\u001b[0m\u001b[0;34m\u001b[0m\u001b[0m\n\u001b[0;32m--> 103\u001b[0;31m \u001b[0mH\u001b[0m\u001b[0;34m.\u001b[0m\u001b[0msetOptions\u001b[0m\u001b[0;34m(\u001b[0m\u001b[0mtheme\u001b[0m\u001b[0;34m)\u001b[0m\u001b[0;34m\u001b[0m\u001b[0;34m\u001b[0m\u001b[0m\n\u001b[0m\u001b[1;32m    104\u001b[0m \u001b[0;34m\u001b[0m\u001b[0m\n\u001b[1;32m    105\u001b[0m \u001b[0mH\u001b[0m\u001b[0;34m.\u001b[0m\u001b[0mset_dict_options\u001b[0m\u001b[0;34m(\u001b[0m\u001b[0moptions\u001b[0m\u001b[0;34m)\u001b[0m   \u001b[0;31m# 添加配置\u001b[0m\u001b[0;34m\u001b[0m\u001b[0;34m\u001b[0m\u001b[0m\n",
      "\u001b[0;31mTypeError\u001b[0m: 'dict' object is not callable"
     ]
    }
   ],
   "source": [
    "from highcharts import Highchart   # 导入库 \n",
    "H = Highchart(width=800, height=600)  # 设置图形的大小\n",
    "\n",
    "\n",
    "data1 = [14496735.77, 3743601.57,112288.74,0, 0]  \n",
    "data2 = [10390607.33, 2044682.86, 106186.81,0, 0]\n",
    "data3 = [576660.18, 3444.09, 2027, 0, 0]\n",
    "data4 = [3529468.26, 1695474.62, 4074.93, 0, 0]\n",
    "\n",
    "# 主题设置\n",
    "theme = {\n",
    "  'colors': ['#058DC7', '#50B432', '#ED561B', '#DDDF00', '#24CBE5', '#64E572', \n",
    "           '#FF9655', '#FFF263', '#6AF9C4'],\n",
    "  'chart': {\n",
    "      'backgroundColor': {\n",
    "          'linearGradient': [0, 0, 500, 500],\n",
    "          'stops': [\n",
    "              [0, 'rgb(255, 255, 255)'],\n",
    "              [1, 'rgb(240, 240, 255)']\n",
    "          ]\n",
    "      },\n",
    "  },\n",
    "  'title': {\n",
    "      'style': {\n",
    "          'color': '#000',\n",
    "          'font': 'bold 16px \"Trebuchet MS\", Verdana, sans-serif'\n",
    "      }\n",
    "  },\n",
    "  'subtitle': {\n",
    "      'style': {\n",
    "          'color': '#666666',\n",
    "          'font': 'bold 12px \"Trebuchet MS\", Verdana, sans-serif'\n",
    "      }\n",
    "  },\n",
    "\n",
    "  'legend': {\n",
    "      'itemStyle': {\n",
    "          'font': '9pt Trebuchet MS, Verdana, sans-serif',\n",
    "          'color': 'black'\n",
    "      },\n",
    "      'itemHoverStyle':{\n",
    "          'color': 'gray'\n",
    "      }   \n",
    "  }\n",
    "}\n",
    "\n",
    "\n",
    "\n",
    "# 进行配置\n",
    "options = {\n",
    "    'chart': {  # 加上chart配置变成水平柱状图\n",
    "        'type': 'bar'\n",
    "    },\n",
    "\t'title': {  # 1、主标题\n",
    "        'text': '华秋商城2021年1月份4种金额' \n",
    "    },\n",
    "    \n",
    "    'subtitle': {   # 2、副标题\n",
    "        'text': '不同订单类型对比分析'\n",
    "    },\n",
    "    \n",
    "    'xAxis': {   # 3、横轴的5个分类\n",
    "        'categories': ['代购','自营', '补差价', '补货', '内配调拨'],\n",
    "        'title': {\n",
    "            'text': \"订单类型\"   # x轴的名称\n",
    "        }\n",
    "    },\n",
    "    'yAxis': {\n",
    "        'min': 0,  # 设置最小值\n",
    "        'title': {\n",
    "            'text': '金额',  # y轴名称\n",
    "            'align': 'high'\n",
    "        },\n",
    "        'labels': {\n",
    "            'overflow': 'justify'\n",
    "        }\n",
    "    },\n",
    "    'tooltip': {\n",
    "        'valueSuffix': '$/元'\n",
    "    },\n",
    "    'legend': {  # 图例设置\n",
    "        'layout': 'vertical',   # 垂直方向\n",
    "        'align': 'right',  # 靠右显示\n",
    "        'verticalAlign': 'top',   # 顶部\n",
    "        'x': -40,\n",
    "        'y': 200,\n",
    "        'floating': True,\n",
    "        'borderWidth': 2,    # 图例外围线条宽度\n",
    "        'backgroundColor': \"((Highcharts.theme && Highcharts.theme.legendBackgroundColor) || '#9ACFF0')\",#图例背景颜色\n",
    "        'shadow': True\n",
    "    },\n",
    "    'credits': {  # 右下角的版权标签\n",
    "        'enabled': False\n",
    "    },\n",
    "    'plotOptions': {\n",
    "        'bar': {\n",
    "            'dataLabels': {\n",
    "                'enabled': True  # 显示数据（柱状图顶部的数据显示出来）\n",
    "            }\n",
    "        }\n",
    "    }\n",
    "}\n",
    "\n",
    "# 使主题配置生效\n",
    "H.setOptions(theme)\n",
    "\n",
    "H.set_dict_options(options)   # 添加配置\n",
    "\n",
    "# 每个年份添加一组数据\n",
    "H.add_data_set(data1, 'bar', '订单金额')\n",
    "H.add_data_set(data2, 'bar', '付款金额')\n",
    "H.add_data_set(data3, 'bar', '未付款金额')\n",
    "H.add_data_set(data4, 'bar', '取消金额')\n",
    "\n",
    "H"
   ]
  },
  {
   "cell_type": "code",
   "execution_count": null,
   "metadata": {},
   "outputs": [],
   "source": []
  }
 ],
 "metadata": {
  "hide_input": false,
  "kernelspec": {
   "display_name": "Python 3",
   "language": "python",
   "name": "python3"
  },
  "language_info": {
   "codemirror_mode": {
    "name": "ipython",
    "version": 3
   },
   "file_extension": ".py",
   "mimetype": "text/x-python",
   "name": "python",
   "nbconvert_exporter": "python",
   "pygments_lexer": "ipython3",
   "version": "3.7.5"
  },
  "latex_envs": {
   "LaTeX_envs_menu_present": true,
   "autoclose": false,
   "autocomplete": true,
   "bibliofile": "biblio.bib",
   "cite_by": "apalike",
   "current_citInitial": 1,
   "eqLabelWithNumbers": true,
   "eqNumInitial": 1,
   "hotkeys": {
    "equation": "Ctrl-E",
    "itemize": "Ctrl-I"
   },
   "labels_anchors": false,
   "latex_user_defs": false,
   "report_style_numbering": false,
   "user_envs_cfg": false
  },
  "nbTranslate": {
   "displayLangs": [
    "*"
   ],
   "hotkey": "alt-t",
   "langInMainMenu": true,
   "sourceLang": "en",
   "targetLang": "fr",
   "useGoogleTranslate": true
  },
  "toc": {
   "base_numbering": 1,
   "nav_menu": {},
   "number_sections": true,
   "sideBar": true,
   "skip_h1_title": false,
   "title_cell": "Table of Contents",
   "title_sidebar": "Contents",
   "toc_cell": false,
   "toc_position": {},
   "toc_section_display": true,
   "toc_window_display": false
  },
  "varInspector": {
   "cols": {
    "lenName": 16,
    "lenType": 16,
    "lenVar": 40
   },
   "kernels_config": {
    "python": {
     "delete_cmd_postfix": "",
     "delete_cmd_prefix": "del ",
     "library": "var_list.py",
     "varRefreshCmd": "print(var_dic_list())"
    },
    "r": {
     "delete_cmd_postfix": ") ",
     "delete_cmd_prefix": "rm(",
     "library": "var_list.r",
     "varRefreshCmd": "cat(var_dic_list()) "
    }
   },
   "types_to_exclude": [
    "module",
    "function",
    "builtin_function_or_method",
    "instance",
    "_Feature"
   ],
   "window_display": false
  }
 },
 "nbformat": 4,
 "nbformat_minor": 2
}
