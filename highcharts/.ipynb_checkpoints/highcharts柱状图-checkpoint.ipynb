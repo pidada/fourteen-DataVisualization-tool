{
 "cells": [
  {
   "cell_type": "markdown",
   "metadata": {},
   "source": [
    "## 绘制柱状图\n",
    "\n",
    "本文中通过各种案例介绍如何不同需求的柱状图"
   ]
  },
  {
   "cell_type": "markdown",
   "metadata": {},
   "source": [
    "### 基础柱状图"
   ]
  },
  {
   "cell_type": "code",
   "execution_count": 1,
   "metadata": {
    "code_folding": []
   },
   "outputs": [
    {
     "data": {
      "text/html": [
       "<iframe style=\"border:0;outline:none;overflow:hidden\" srcdoc=\"&lt;!DOCTYPE html&gt; &lt;html lang=&quot;en&quot;&gt; &lt;head&gt; &lt;meta charset=&quot;utf-8&quot; /&gt; &lt;link href=&quot;https://www.highcharts.com/highslide/highslide.css&quot; rel=&quot;stylesheet&quot; /&gt; &lt;script type=&quot;text/javascript&quot; src=&quot;https://ajax.googleapis.com/ajax/libs/jquery/1.9.1/jquery.min.js&quot;&gt;&lt;/script&gt; &lt;script type=&quot;text/javascript&quot; src=&quot;https://code.highcharts.com/6/highcharts.js&quot;&gt;&lt;/script&gt; &lt;script type=&quot;text/javascript&quot; src=&quot;https://code.highcharts.com/6/highcharts-more.js&quot;&gt;&lt;/script&gt; &lt;script type=&quot;text/javascript&quot; src=&quot;https://code.highcharts.com/6/modules/heatmap.js&quot;&gt;&lt;/script&gt; &lt;script type=&quot;text/javascript&quot; src=&quot;https://code.highcharts.com/6/modules/exporting.js&quot;&gt;&lt;/script&gt; &lt;/head&gt; &lt;body style=&quot;margin:0;padding:0&quot;&gt; &lt;div id=&quot;container&quot; style=&quot;width:750px;height:600px;&quot;&gt;Loading....&lt;/div&gt; &lt;script&gt; $(function(){ Highcharts.setOptions({&quot;global&quot;: {}, &quot;lang&quot;: {}}); var option = {&quot;chart&quot;: {&quot;renderTo&quot;: &quot;container&quot;, &quot;width&quot;: 750, &quot;height&quot;: 600, &quot;type&quot;: &quot;bar&quot;}, &quot;colors&quot;: {}, &quot;credits&quot;: {&quot;enabled&quot;: true}, &quot;drilldown&quot;: {}, &quot;exporting&quot;: {}, &quot;labels&quot;: {}, &quot;legend&quot;: {&quot;layout&quot;: &quot;vertical&quot;, &quot;align&quot;: &quot;right&quot;, &quot;verticalAlign&quot;: &quot;top&quot;, &quot;x&quot;: -40, &quot;y&quot;: 80, &quot;floating&quot;: true, &quot;borderWidth&quot;: 2, &quot;backgroundColor&quot;: ((Highcharts.theme &amp;&amp; Highcharts.theme.legendBackgroundColor) || &#x27;#9ACFF0&#x27;), &quot;shadow&quot;: true}, &quot;loading&quot;: {}, &quot;navigation&quot;: {}, &quot;pane&quot;: {}, &quot;plotOptions&quot;: {&quot;bar&quot;: {&quot;dataLabels&quot;: {&quot;enabled&quot;: true}}}, &quot;series&quot;: {}, &quot;subtitle&quot;: {&quot;text&quot;: &quot;Source: &lt;a href=\\&quot;https://en.wikipedia.org/wiki/World_population\\&quot;&gt;Wikipedia.org&lt;/a&gt;&quot;}, &quot;title&quot;: {&quot;text&quot;: &quot;Stacked bar chart&quot;}, &quot;tooltip&quot;: {&quot;valueSuffix&quot;: &quot; millions&quot;}, &quot;xAxis&quot;: {&quot;categories&quot;: [&quot;Africa&quot;, &quot;America&quot;, &quot;Asia&quot;, &quot;Europe&quot;, &quot;Oceania&quot;], &quot;title&quot;: {&quot;text&quot;: &quot;5\\u4e2a\\u6d32&quot;}}, &quot;yAxis&quot;: {&quot;min&quot;: 0, &quot;title&quot;: {&quot;text&quot;: &quot;\\u4eba\\u53e3\\u6570(\\u767e\\u4e07)&quot;, &quot;align&quot;: &quot;high&quot;}, &quot;labels&quot;: {&quot;overflow&quot;: &quot;justify&quot;}}}; var chart = new Highcharts.Chart(option); var data = [{&quot;data&quot;: [107, 31, 235, 203, 24], &quot;type&quot;: &quot;bar&quot;, &quot;name&quot;: &quot;Year 2000&quot;}, {&quot;data&quot;: [133, 156, 947, 868, 106], &quot;type&quot;: &quot;bar&quot;, &quot;name&quot;: &quot;Year 2004&quot;}, {&quot;data&quot;: [373, 914, 854, 732, 34], &quot;type&quot;: &quot;bar&quot;, &quot;name&quot;: &quot;Year 2008&quot;}, {&quot;data&quot;: [652, 954, 1250, 740, 38], &quot;type&quot;: &quot;bar&quot;, &quot;name&quot;: &quot;Year 2012&quot;}]; var dataLen = data.length; for (var ix = 0; ix &lt; dataLen; ix++) { chart.addSeries(data[ix]); } }); &lt;/script&gt; &lt;/body&gt; &lt;/html&gt;\" height=600 width=750></iframe>"
      ],
      "text/plain": [
       "<highcharts.highcharts.highcharts.Highchart at 0x10ea48a90>"
      ]
     },
     "execution_count": 1,
     "metadata": {},
     "output_type": "execute_result"
    }
   ],
   "source": [
    "from highcharts import Highchart   # 导入库 \n",
    "H = Highchart(width=750, height=600)  # 设置图形的大小\n",
    "\n",
    "# 4组数据，代表4个年份\n",
    "# 每组5个数据代表的是5个洲\n",
    "data1 = [107, 31, 235, 203, 24]  \n",
    "data2 = [133, 156, 947, 868, 106]\n",
    "data3 = [373, 914, 854, 732, 34]\n",
    "data4 = [652, 954, 1250, 740, 38]\n",
    "\n",
    "# 进行配置\n",
    "options = {\n",
    "    'chart': {  # 加上chart配置变成水平柱状图\n",
    "        'type': 'bar'\n",
    "    },\n",
    "\t'title': {  # 1、主标题\n",
    "        'text': 'Stacked bar chart' \n",
    "    },\n",
    "    \n",
    "    'subtitle': {   # 2、副标题\n",
    "        'text': 'Source: <a href=\"https://en.wikipedia.org/wiki/World_population\">Wikipedia.org</a>'\n",
    "    },\n",
    "    \n",
    "    'xAxis': {   # 3、横轴的5个分类\n",
    "        'categories': ['Africa', 'America', 'Asia', 'Europe', 'Oceania'],\n",
    "        'title': {\n",
    "            'text': \"5个洲\"   # x轴的名称\n",
    "        }\n",
    "    },\n",
    "    'yAxis': {\n",
    "        'min': 0,  # 设置最小值\n",
    "        'title': {\n",
    "            'text': '人口数(百万)',  # y轴名称\n",
    "            'align': 'high'\n",
    "        },\n",
    "        'labels': {\n",
    "            'overflow': 'justify'\n",
    "        }\n",
    "    },\n",
    "    'tooltip': {\n",
    "        'valueSuffix': ' millions'\n",
    "    },\n",
    "    'legend': {  # 图例设置\n",
    "        'layout': 'vertical',   # 垂直方向\n",
    "        'align': 'right',  # 靠右显示\n",
    "        'verticalAlign': 'top',   # 顶部\n",
    "        'x': -40,\n",
    "        'y': 80,\n",
    "        'floating': True,\n",
    "        'borderWidth': 2,    # 图例外围线条宽度\n",
    "        'backgroundColor': \"((Highcharts.theme && Highcharts.theme.legendBackgroundColor) || '#9ACFF0')\",#图例背景颜色\n",
    "        'shadow': True\n",
    "    },\n",
    "    'credits': {  # 右下角的版权标签\n",
    "        'enabled': True\n",
    "    },\n",
    "    'plotOptions': {\n",
    "        'bar': {\n",
    "            'dataLabels': {\n",
    "                'enabled': True  # 显示数据（柱状图顶部的数据显示出来）\n",
    "            }\n",
    "        }\n",
    "    }\n",
    "}\n",
    "\n",
    "H.set_dict_options(options)   # 添加配置\n",
    "\n",
    "# 每个年份添加一组数据\n",
    "H.add_data_set(data1, 'bar', 'Year 2000')\n",
    "H.add_data_set(data2, 'bar', 'Year 2004')\n",
    "H.add_data_set(data3, 'bar', 'Year 2008')\n",
    "H.add_data_set(data4, 'bar', 'Year 2012')\n",
    "\n",
    "H"
   ]
  },
  {
   "cell_type": "code",
   "execution_count": 2,
   "metadata": {},
   "outputs": [
    {
     "data": {
      "text/html": [
       "<div>\n",
       "<style scoped>\n",
       "    .dataframe tbody tr th:only-of-type {\n",
       "        vertical-align: middle;\n",
       "    }\n",
       "\n",
       "    .dataframe tbody tr th {\n",
       "        vertical-align: top;\n",
       "    }\n",
       "\n",
       "    .dataframe thead th {\n",
       "        text-align: right;\n",
       "    }\n",
       "</style>\n",
       "<table border=\"1\" class=\"dataframe\">\n",
       "  <thead>\n",
       "    <tr style=\"text-align: right;\">\n",
       "      <th></th>\n",
       "      <th>2000</th>\n",
       "      <th>2004</th>\n",
       "      <th>2008</th>\n",
       "      <th>2012</th>\n",
       "    </tr>\n",
       "  </thead>\n",
       "  <tbody>\n",
       "    <tr>\n",
       "      <th>Africa</th>\n",
       "      <td>107</td>\n",
       "      <td>133</td>\n",
       "      <td>373</td>\n",
       "      <td>652</td>\n",
       "    </tr>\n",
       "    <tr>\n",
       "      <th>America</th>\n",
       "      <td>31</td>\n",
       "      <td>156</td>\n",
       "      <td>914</td>\n",
       "      <td>954</td>\n",
       "    </tr>\n",
       "    <tr>\n",
       "      <th>Asia</th>\n",
       "      <td>235</td>\n",
       "      <td>947</td>\n",
       "      <td>854</td>\n",
       "      <td>1250</td>\n",
       "    </tr>\n",
       "    <tr>\n",
       "      <th>Europe</th>\n",
       "      <td>203</td>\n",
       "      <td>868</td>\n",
       "      <td>732</td>\n",
       "      <td>740</td>\n",
       "    </tr>\n",
       "    <tr>\n",
       "      <th>Oceania</th>\n",
       "      <td>24</td>\n",
       "      <td>106</td>\n",
       "      <td>34</td>\n",
       "      <td>38</td>\n",
       "    </tr>\n",
       "  </tbody>\n",
       "</table>\n",
       "</div>"
      ],
      "text/plain": [
       "         2000  2004  2008  2012\n",
       "Africa    107   133   373   652\n",
       "America    31   156   914   954\n",
       "Asia      235   947   854  1250\n",
       "Europe    203   868   732   740\n",
       "Oceania    24   106    34    38"
      ]
     },
     "execution_count": 2,
     "metadata": {},
     "output_type": "execute_result"
    }
   ],
   "source": [
    "# 使用DataFrame数据框\n",
    "\n",
    "import pandas as pd\n",
    "\n",
    "data = pd.DataFrame({\n",
    "    \"2000\": [107, 31, 235, 203, 24],\n",
    "    \"2004\": [133, 156, 947, 868, 106],\n",
    "    \"2008\": [373, 914, 854, 732, 34],\n",
    "    \"2012\": [652, 954, 1250, 740, 38]},\n",
    "    \n",
    "    index=['Africa', 'America', 'Asia', 'Europe', 'Oceania']\n",
    ")\n",
    "\n",
    "data"
   ]
  },
  {
   "cell_type": "code",
   "execution_count": 3,
   "metadata": {},
   "outputs": [
    {
     "data": {
      "text/plain": [
       "[107, 31, 235, 203, 24]"
      ]
     },
     "execution_count": 3,
     "metadata": {},
     "output_type": "execute_result"
    }
   ],
   "source": [
    "# 模拟生成数据\n",
    "\n",
    "data1 = data[\"2000\"].tolist()\n",
    "data1"
   ]
  },
  {
   "cell_type": "code",
   "execution_count": 4,
   "metadata": {},
   "outputs": [
    {
     "data": {
      "text/plain": [
       "[133, 156, 947, 868, 106]"
      ]
     },
     "execution_count": 4,
     "metadata": {},
     "output_type": "execute_result"
    }
   ],
   "source": [
    "data2 = data[\"2004\"].tolist()\n",
    "data2"
   ]
  },
  {
   "cell_type": "code",
   "execution_count": 5,
   "metadata": {},
   "outputs": [
    {
     "data": {
      "text/plain": [
       "['2000', '2004', '2008', '2012']"
      ]
     },
     "execution_count": 5,
     "metadata": {},
     "output_type": "execute_result"
    }
   ],
   "source": [
    "data.columns.tolist()"
   ]
  },
  {
   "cell_type": "code",
   "execution_count": 6,
   "metadata": {},
   "outputs": [
    {
     "data": {
      "text/plain": [
       "['Africa', 'America', 'Asia', 'Europe', 'Oceania']"
      ]
     },
     "execution_count": 6,
     "metadata": {},
     "output_type": "execute_result"
    }
   ],
   "source": [
    "data.index.tolist()"
   ]
  },
  {
   "cell_type": "markdown",
   "metadata": {},
   "source": [
    "### 蝴蝶图-bar with negative stack"
   ]
  },
  {
   "cell_type": "code",
   "execution_count": 7,
   "metadata": {
    "code_folding": [
     4,
     64,
     70
    ]
   },
   "outputs": [
    {
     "data": {
      "text/html": [
       "<iframe style=\"border:0;outline:none;overflow:hidden\" srcdoc=\"&lt;!DOCTYPE html&gt; &lt;html lang=&quot;en&quot;&gt; &lt;head&gt; &lt;meta charset=&quot;utf-8&quot; /&gt; &lt;link href=&quot;https://www.highcharts.com/highslide/highslide.css&quot; rel=&quot;stylesheet&quot; /&gt; &lt;script type=&quot;text/javascript&quot; src=&quot;https://ajax.googleapis.com/ajax/libs/jquery/1.9.1/jquery.min.js&quot;&gt;&lt;/script&gt; &lt;script type=&quot;text/javascript&quot; src=&quot;https://code.highcharts.com/6/highcharts.js&quot;&gt;&lt;/script&gt; &lt;script type=&quot;text/javascript&quot; src=&quot;https://code.highcharts.com/6/highcharts-more.js&quot;&gt;&lt;/script&gt; &lt;script type=&quot;text/javascript&quot; src=&quot;https://code.highcharts.com/6/modules/heatmap.js&quot;&gt;&lt;/script&gt; &lt;script type=&quot;text/javascript&quot; src=&quot;https://code.highcharts.com/6/modules/exporting.js&quot;&gt;&lt;/script&gt; &lt;/head&gt; &lt;body style=&quot;margin:0;padding:0&quot;&gt; &lt;div id=&quot;container&quot; style=&quot;width:550px;height:400px;&quot;&gt;Loading....&lt;/div&gt; &lt;script&gt; $(function(){ Highcharts.setOptions({&quot;global&quot;: {}, &quot;lang&quot;: {}}); var option = {&quot;chart&quot;: {&quot;renderTo&quot;: &quot;container&quot;, &quot;width&quot;: 550, &quot;height&quot;: 400, &quot;type&quot;: &quot;bar&quot;}, &quot;colors&quot;: {}, &quot;credits&quot;: {&quot;enabled&quot;: false}, &quot;drilldown&quot;: {}, &quot;exporting&quot;: {}, &quot;labels&quot;: {}, &quot;legend&quot;: {}, &quot;loading&quot;: {}, &quot;navigation&quot;: {}, &quot;pane&quot;: {}, &quot;plotOptions&quot;: {&quot;series&quot;: {&quot;stacking&quot;: &quot;normal&quot;}}, &quot;series&quot;: {}, &quot;subtitle&quot;: {&quot;text&quot;: &quot;Source: www.census.gov&quot;}, &quot;title&quot;: {&quot;text&quot;: &quot;Population pyramid for Germany, midyear 2010&quot;}, &quot;tooltip&quot;: {&quot;formatter&quot;: function () { return &#x27;&lt;b&gt;&#x27; + this.series.name + &#x27;, age &#x27; + this.point.category + &#x27;&lt;/b&gt;&lt;br/&gt;&#x27; + &#x27;Population: &#x27; + Highcharts.numberFormat(Math.abs(this.point.y), 0); }}, &quot;xAxis&quot;: [{&quot;categories&quot;: [&quot;0-4&quot;, &quot;5-9&quot;, &quot;10-14&quot;, &quot;15-19&quot;, &quot;20-24&quot;, &quot;25-29&quot;, &quot;30-34&quot;, &quot;35-39&quot;, &quot;40-44&quot;, &quot;45-49&quot;, &quot;50-54&quot;, &quot;55-59&quot;, &quot;60-64&quot;, &quot;65-69&quot;, &quot;70-74&quot;, &quot;75-79&quot;, &quot;80-84&quot;, &quot;85-89&quot;, &quot;90-94&quot;, &quot;95-99&quot;, &quot;100 + &quot;], &quot;reversed&quot;: false, &quot;labels&quot;: {&quot;step&quot;: 1}}, {&quot;opposite&quot;: true, &quot;reversed&quot;: false, &quot;categories&quot;: [&quot;0-4&quot;, &quot;5-9&quot;, &quot;10-14&quot;, &quot;15-19&quot;, &quot;20-24&quot;, &quot;25-29&quot;, &quot;30-34&quot;, &quot;35-39&quot;, &quot;40-44&quot;, &quot;45-49&quot;, &quot;50-54&quot;, &quot;55-59&quot;, &quot;60-64&quot;, &quot;65-69&quot;, &quot;70-74&quot;, &quot;75-79&quot;, &quot;80-84&quot;, &quot;85-89&quot;, &quot;90-94&quot;, &quot;95-99&quot;, &quot;100 + &quot;], &quot;linkedTo&quot;: 0, &quot;labels&quot;: {&quot;step&quot;: 1}}], &quot;yAxis&quot;: {&quot;title&quot;: {&quot;text&quot;: null}, &quot;labels&quot;: {&quot;formatter&quot;: function () { return (Math.abs(this.value) / 1000000) + &#x27;M&#x27;; }}, &quot;min&quot;: -4000000, &quot;max&quot;: 4000000}}; var chart = new Highcharts.Chart(option); var data = [{&quot;data&quot;: [-1746181, -1884428, -2089758, -2222362, -2537431, -2507081, -2443179, -2664537, -3556505, -3680231, -3143062, -2721122, -2229181, -2227768, -2176300, -1329968, -836804, -354784, -90569, -28367, -3878], &quot;type&quot;: &quot;bar&quot;, &quot;name&quot;: &quot;Male&quot;}, {&quot;data&quot;: [1656154, 1787564, 1981671, 2108575, 2403438, 2366003, 2301402, 2519874, 3360596, 3493473, 3050775, 2759560, 2304444, 2426504, 2568938, 1785638, 1447162, 1005011, 330870, 130632, 21208], &quot;type&quot;: &quot;bar&quot;, &quot;name&quot;: &quot;Female&quot;}]; var dataLen = data.length; for (var ix = 0; ix &lt; dataLen; ix++) { chart.addSeries(data[ix]); } }); &lt;/script&gt; &lt;/body&gt; &lt;/html&gt;\" height=400 width=550></iframe>"
      ],
      "text/plain": [
       "<highcharts.highcharts.highcharts.Highchart at 0x119980990>"
      ]
     },
     "execution_count": 7,
     "metadata": {},
     "output_type": "execute_result"
    }
   ],
   "source": [
    "from highcharts import Highchart\n",
    "H = Highchart(width=550, height=400)\n",
    "\n",
    "# 1、数值分类区间\n",
    "categories = ['0-4', '5-9', '10-14', '15-19',\n",
    "              '20-24', '25-29', '30-34', '35-39', \n",
    "              '40-44','45-49', '50-54', '55-59', \n",
    "              '60-64', '65-69','70-74', '75-79', \n",
    "              '80-84', '85-89', '90-94','95-99', '100 + ']\n",
    "# 2、配置项\n",
    "# 在这种图形中横轴和纵轴需要调换\n",
    "options = {\n",
    "\t'chart': {  #  指定图表类型：柱状图\n",
    "        'type': 'bar' \n",
    "    },\n",
    "    'title': {  # 主标题\n",
    "        'text': 'Population pyramid for Germany, midyear 2010'\n",
    "    },\n",
    "    'subtitle': {  # 副标题\n",
    "        'text': 'Source: www.census.gov'\n",
    "    },\n",
    "    'xAxis': [{  # 左侧标签设置\n",
    "        'categories': categories,\n",
    "        'reversed': False,   # 分类区间是否翻转\n",
    "        'labels': {\n",
    "            'step': 1  # 标签区间的间隔\n",
    "        }\n",
    "    }, {   # 右侧标签设置\n",
    "        'opposite': True,\n",
    "        'reversed': False,\n",
    "        'categories': categories,\n",
    "        'linkedTo': 0,\n",
    "        'labels': {\n",
    "            'step': 1\n",
    "        }\n",
    "    }],\n",
    "    'yAxis': {\n",
    "        'title': {\n",
    "            'text': None\n",
    "        },\n",
    "        'labels': {  # y轴标签\n",
    "            'formatter': \"function () {\\\n",
    "                                    return (Math.abs(this.value) / 1000000) + 'M';\\\n",
    "                                }\"\n",
    "        },\n",
    "        'min': -4000000,\n",
    "        'max': 4000000\n",
    "    },\n",
    "\n",
    "    'plotOptions': {\n",
    "        'series': {\n",
    "            'stacking': 'normal'\n",
    "        }\n",
    "    },\n",
    "\n",
    "    'tooltip': {\n",
    "        'formatter': \"function () {\\\n",
    "                            return '<b>' + this.series.name + ', age ' + this.point.category + '</b><br/>' +\\\n",
    "                                'Population: ' + Highcharts.numberFormat(Math.abs(this.point.y), 0);\\\n",
    "                        }\"\n",
    "    },\n",
    "}\n",
    "\n",
    "# 设置男女的数值\n",
    "data_male = [-1746181, -1884428, -2089758, -2222362,\n",
    "             -2537431, -2507081, -2443179, -2664537, \n",
    "             -3556505, -3680231, -3143062, -2721122, \n",
    "             -2229181, -2227768,-2176300, -1329968, \n",
    "             -836804, -354784, -90569, -28367, -3878]\n",
    "\n",
    "data_female = [1656154, 1787564, 1981671, 2108575, \n",
    "               2403438, 2366003, 2301402, 2519874,\n",
    "               3360596, 3493473, 3050775, 2759560, \n",
    "               2304444, 2426504, 2568938, 1785638,\n",
    "               1447162, 1005011, 330870, 130632, 21208]\n",
    "\n",
    "# 添加配置项\n",
    "H.set_dict_options(options)\n",
    "\n",
    "# 添加数据和指定图表类型bar\n",
    "H.add_data_set(data_male, 'bar', 'Male')\n",
    "H.add_data_set(data_female, 'bar', 'Female')\n",
    "\n",
    "H"
   ]
  },
  {
   "cell_type": "markdown",
   "metadata": {},
   "source": [
    "###  堆叠柱状图-stack bar"
   ]
  },
  {
   "cell_type": "code",
   "execution_count": 8,
   "metadata": {},
   "outputs": [
    {
     "data": {
      "text/html": [
       "<iframe style=\"border:0;outline:none;overflow:hidden\" srcdoc=\"&lt;!DOCTYPE html&gt; &lt;html lang=&quot;en&quot;&gt; &lt;head&gt; &lt;meta charset=&quot;utf-8&quot; /&gt; &lt;link href=&quot;https://www.highcharts.com/highslide/highslide.css&quot; rel=&quot;stylesheet&quot; /&gt; &lt;script type=&quot;text/javascript&quot; src=&quot;https://ajax.googleapis.com/ajax/libs/jquery/1.9.1/jquery.min.js&quot;&gt;&lt;/script&gt; &lt;script type=&quot;text/javascript&quot; src=&quot;https://code.highcharts.com/6/highcharts.js&quot;&gt;&lt;/script&gt; &lt;script type=&quot;text/javascript&quot; src=&quot;https://code.highcharts.com/6/highcharts-more.js&quot;&gt;&lt;/script&gt; &lt;script type=&quot;text/javascript&quot; src=&quot;https://code.highcharts.com/6/modules/heatmap.js&quot;&gt;&lt;/script&gt; &lt;script type=&quot;text/javascript&quot; src=&quot;https://code.highcharts.com/6/modules/exporting.js&quot;&gt;&lt;/script&gt; &lt;/head&gt; &lt;body style=&quot;margin:0;padding:0&quot;&gt; &lt;div id=&quot;container&quot; style=&quot;width:800px;height:600px;&quot;&gt;Loading....&lt;/div&gt; &lt;script&gt; $(function(){ Highcharts.setOptions({&quot;global&quot;: {}, &quot;lang&quot;: {}}); var option = {&quot;chart&quot;: {&quot;renderTo&quot;: &quot;container&quot;, &quot;width&quot;: 800, &quot;height&quot;: 600, &quot;type&quot;: &quot;bar&quot;}, &quot;colors&quot;: {}, &quot;credits&quot;: {&quot;enabled&quot;: false}, &quot;drilldown&quot;: {}, &quot;exporting&quot;: {}, &quot;labels&quot;: {}, &quot;legend&quot;: {&quot;reversed&quot;: true}, &quot;loading&quot;: {}, &quot;navigation&quot;: {}, &quot;pane&quot;: {}, &quot;plotOptions&quot;: {&quot;series&quot;: {&quot;stacking&quot;: &quot;normal&quot;}}, &quot;series&quot;: {}, &quot;subtitle&quot;: {}, &quot;title&quot;: {&quot;text&quot;: &quot;Stacked bar chart&quot;}, &quot;tooltip&quot;: {}, &quot;xAxis&quot;: {&quot;categories&quot;: [&quot;Apples&quot;, &quot;Oranges&quot;, &quot;Pears&quot;, &quot;Grapes&quot;, &quot;Bananas&quot;]}, &quot;yAxis&quot;: {&quot;min&quot;: 0, &quot;title&quot;: {&quot;text&quot;: &quot;Total fruit consumption&quot;}}}; var chart = new Highcharts.Chart(option); var data = [{&quot;data&quot;: [5, 3, 4, 7, 2], &quot;type&quot;: &quot;bar&quot;, &quot;name&quot;: &quot;John&quot;}, {&quot;data&quot;: [2, 2, 3, 2, 1], &quot;type&quot;: &quot;bar&quot;, &quot;name&quot;: &quot;Jane&quot;}, {&quot;data&quot;: [3, 4, 4, 2, 5], &quot;type&quot;: &quot;bar&quot;, &quot;name&quot;: &quot;Joe&quot;}]; var dataLen = data.length; for (var ix = 0; ix &lt; dataLen; ix++) { chart.addSeries(data[ix]); } }); &lt;/script&gt; &lt;/body&gt; &lt;/html&gt;\" height=600 width=800></iframe>"
      ],
      "text/plain": [
       "<highcharts.highcharts.highcharts.Highchart at 0x119958550>"
      ]
     },
     "execution_count": 8,
     "metadata": {},
     "output_type": "execute_result"
    }
   ],
   "source": [
    "from highcharts import Highchart   # 导入库 \n",
    "H = Highchart(width=800, height=600)  # 设置图形的大小\n",
    "\n",
    "# 配置数据项\n",
    "data1 = [5, 3, 4, 7, 2]\n",
    "data2 = [2, 2, 3, 2, 1]\n",
    "data3 = [3, 4, 4, 2, 5]\n",
    "\n",
    "options = {\n",
    "    'chart': {\n",
    "        'type': 'bar'  # 图表类型\n",
    "    },\n",
    "    'title': {  # 主标题\n",
    "        'text': 'Stacked bar chart'\n",
    "    },\n",
    "    'xAxis': {\n",
    "        'categories': ['Apples', 'Oranges', 'Pears', 'Grapes', 'Bananas']\n",
    "    },\n",
    "    'yAxis': {\n",
    "        'min': 0,\n",
    "        'title': {\n",
    "            'text': 'Total fruit consumption'\n",
    "        }\n",
    "    },\n",
    "    'legend': {\n",
    "        'reversed': True\n",
    "    },\n",
    "    'plotOptions': {\n",
    "        'series': {\n",
    "            'stacking': 'normal'\n",
    "        }\n",
    "    }\n",
    "}\n",
    "\n",
    "H.set_dict_options(options)   # 添加配置\n",
    "\n",
    "H.add_data_set(data1,'bar','John')\n",
    "H.add_data_set(data2,'bar','Jane')\n",
    "H.add_data_set(data3,'bar','Joe')\n",
    "\n",
    "H"
   ]
  },
  {
   "cell_type": "markdown",
   "metadata": {},
   "source": [
    "### 带有负值的柱状图"
   ]
  },
  {
   "cell_type": "code",
   "execution_count": 9,
   "metadata": {},
   "outputs": [
    {
     "data": {
      "text/html": [
       "<iframe style=\"border:0;outline:none;overflow:hidden\" srcdoc=\"&lt;!DOCTYPE html&gt; &lt;html lang=&quot;en&quot;&gt; &lt;head&gt; &lt;meta charset=&quot;utf-8&quot; /&gt; &lt;link href=&quot;https://www.highcharts.com/highslide/highslide.css&quot; rel=&quot;stylesheet&quot; /&gt; &lt;script type=&quot;text/javascript&quot; src=&quot;https://ajax.googleapis.com/ajax/libs/jquery/1.9.1/jquery.min.js&quot;&gt;&lt;/script&gt; &lt;script type=&quot;text/javascript&quot; src=&quot;https://code.highcharts.com/6/highcharts.js&quot;&gt;&lt;/script&gt; &lt;script type=&quot;text/javascript&quot; src=&quot;https://code.highcharts.com/6/highcharts-more.js&quot;&gt;&lt;/script&gt; &lt;script type=&quot;text/javascript&quot; src=&quot;https://code.highcharts.com/6/modules/heatmap.js&quot;&gt;&lt;/script&gt; &lt;script type=&quot;text/javascript&quot; src=&quot;https://code.highcharts.com/6/modules/exporting.js&quot;&gt;&lt;/script&gt; &lt;/head&gt; &lt;body style=&quot;margin:0;padding:0&quot;&gt; &lt;div id=&quot;container&quot; style=&quot;width:800px;height:600px;&quot;&gt;Loading....&lt;/div&gt; &lt;script&gt; $(function(){ Highcharts.setOptions({&quot;global&quot;: {}, &quot;lang&quot;: {}}); var option = {&quot;chart&quot;: {&quot;renderTo&quot;: &quot;container&quot;, &quot;width&quot;: 800, &quot;height&quot;: 600, &quot;type&quot;: &quot;column&quot;}, &quot;colors&quot;: {}, &quot;credits&quot;: {&quot;enabled&quot;: false}, &quot;drilldown&quot;: {}, &quot;exporting&quot;: {}, &quot;labels&quot;: {}, &quot;legend&quot;: {&quot;reversed&quot;: true}, &quot;loading&quot;: {}, &quot;navigation&quot;: {}, &quot;pane&quot;: {}, &quot;plotOptions&quot;: {&quot;bar&quot;: {&quot;dataLabels&quot;: {&quot;enabled&quot;: true}}}, &quot;series&quot;: {}, &quot;subtitle&quot;: {}, &quot;title&quot;: {&quot;text&quot;: &quot;column with negative values&quot;}, &quot;tooltip&quot;: {}, &quot;xAxis&quot;: {&quot;categories&quot;: [&quot;Apples&quot;, &quot;Oranges&quot;, &quot;Pears&quot;, &quot;Grapes&quot;, &quot;Bananas&quot;]}, &quot;yAxis&quot;: {&quot;title&quot;: {&quot;text&quot;: &quot;\\u6c34\\u679c\\u6570\\u91cf&quot;, &quot;align&quot;: &quot;high&quot;}, &quot;labels&quot;: {&quot;overflow&quot;: &quot;justify&quot;}}}; var chart = new Highcharts.Chart(option); var data = [{&quot;data&quot;: [5, 3, -4, 7, 2], &quot;type&quot;: &quot;bar&quot;, &quot;name&quot;: &quot;John&quot;}, {&quot;data&quot;: [2, 2, 3, -2, 1], &quot;type&quot;: &quot;bar&quot;, &quot;name&quot;: &quot;Jane&quot;}, {&quot;data&quot;: [-3, 4, 4, 2, 5], &quot;type&quot;: &quot;bar&quot;, &quot;name&quot;: &quot;Joe&quot;}]; var dataLen = data.length; for (var ix = 0; ix &lt; dataLen; ix++) { chart.addSeries(data[ix]); } }); &lt;/script&gt; &lt;/body&gt; &lt;/html&gt;\" height=600 width=800></iframe>"
      ],
      "text/plain": [
       "<highcharts.highcharts.highcharts.Highchart at 0x119965f50>"
      ]
     },
     "execution_count": 9,
     "metadata": {},
     "output_type": "execute_result"
    }
   ],
   "source": [
    "from highcharts import Highchart   # 导入库 \n",
    "H = Highchart(width=800, height=600)  # 设置图形的大小\n",
    "\n",
    "# 配置数据项\n",
    "data1 = [5, 3, -4, 7, 2]\n",
    "data2 = [2, 2, 3, -2, 1]\n",
    "data3 = [-3, 4, 4, 2, 5]\n",
    "\n",
    "options = {\n",
    "    'chart': {  # 图表类型不是bar，而是column\n",
    "        'type': 'column'  \n",
    "    },\n",
    "    'title': {  # 主标题\n",
    "        'text': 'column with negative values'\n",
    "    },\n",
    "    'xAxis': {\n",
    "        'categories': ['Apples', 'Oranges', 'Pears', 'Grapes', 'Bananas']\n",
    "    },\n",
    "    'yAxis': {\n",
    "        'title': {\n",
    "            'text': '水果数量',  # y轴名称\n",
    "            'align': 'high'\n",
    "        },\n",
    "        'labels': {\n",
    "            'overflow': 'justify'\n",
    "        }\n",
    "    },\n",
    "    'legend': {\n",
    "        'reversed': True\n",
    "    },\n",
    "    'credits': {  # 右下角的版权信息\n",
    "        'enabled': False\n",
    "    },\n",
    "    'plotOptions': {   # 将每个数据在柱状图上方显示出来\n",
    "        'bar': {\n",
    "            'dataLabels': {\n",
    "                'enabled': True  # 显示数据（柱状图顶部的数据显示出来）\n",
    "            }\n",
    "        }\n",
    "    } \n",
    "}\n",
    "\n",
    "H.set_dict_options(options)   # 添加配置\n",
    "H.add_data_set(data1,'bar','John')\n",
    "H.add_data_set(data2,'bar','Jane')\n",
    "H.add_data_set(data3,'bar','Joe')\n",
    "\n",
    "H"
   ]
  },
  {
   "cell_type": "markdown",
   "metadata": {},
   "source": [
    "### 堆叠柱状图 stack column chart"
   ]
  },
  {
   "cell_type": "code",
   "execution_count": 10,
   "metadata": {},
   "outputs": [
    {
     "data": {
      "text/html": [
       "<iframe style=\"border:0;outline:none;overflow:hidden\" srcdoc=\"&lt;!DOCTYPE html&gt; &lt;html lang=&quot;en&quot;&gt; &lt;head&gt; &lt;meta charset=&quot;utf-8&quot; /&gt; &lt;link href=&quot;https://www.highcharts.com/highslide/highslide.css&quot; rel=&quot;stylesheet&quot; /&gt; &lt;script type=&quot;text/javascript&quot; src=&quot;https://ajax.googleapis.com/ajax/libs/jquery/1.9.1/jquery.min.js&quot;&gt;&lt;/script&gt; &lt;script type=&quot;text/javascript&quot; src=&quot;https://code.highcharts.com/6/highcharts.js&quot;&gt;&lt;/script&gt; &lt;script type=&quot;text/javascript&quot; src=&quot;https://code.highcharts.com/6/highcharts-more.js&quot;&gt;&lt;/script&gt; &lt;script type=&quot;text/javascript&quot; src=&quot;https://code.highcharts.com/6/modules/heatmap.js&quot;&gt;&lt;/script&gt; &lt;script type=&quot;text/javascript&quot; src=&quot;https://code.highcharts.com/6/modules/exporting.js&quot;&gt;&lt;/script&gt; &lt;/head&gt; &lt;body style=&quot;margin:0;padding:0&quot;&gt; &lt;div id=&quot;container&quot; style=&quot;width:800px;height:600px;&quot;&gt;Loading....&lt;/div&gt; &lt;script&gt; $(function(){ Highcharts.setOptions({&quot;global&quot;: {}, &quot;lang&quot;: {}}); var option = {&quot;chart&quot;: {&quot;renderTo&quot;: &quot;container&quot;, &quot;width&quot;: 800, &quot;height&quot;: 600, &quot;type&quot;: &quot;column&quot;}, &quot;colors&quot;: {}, &quot;credits&quot;: {&quot;enabled&quot;: false}, &quot;drilldown&quot;: {}, &quot;exporting&quot;: {}, &quot;labels&quot;: {}, &quot;legend&quot;: {&quot;align&quot;: &quot;right&quot;, &quot;x&quot;: -30, &quot;verticalAlign&quot;: &quot;top&quot;, &quot;y&quot;: 25, &quot;floating&quot;: true, &quot;backgroundColor&quot;: Highcharts.defaultOptions.legend.backgroundColor || &#x27;white&#x27;, &quot;borderColor&quot;: &quot;#CCC&quot;, &quot;borderWidth&quot;: 1, &quot;shadow&quot;: false}, &quot;loading&quot;: {}, &quot;navigation&quot;: {}, &quot;pane&quot;: {}, &quot;plotOptions&quot;: {&quot;column&quot;: {&quot;stacking&quot;: &quot;normal&quot;, &quot;dataLabels&quot;: {&quot;enabled&quot;: true}}}, &quot;series&quot;: {}, &quot;subtitle&quot;: {}, &quot;title&quot;: {&quot;text&quot;: &quot;Stacked column chart&quot;}, &quot;tooltip&quot;: {&quot;headerFormat&quot;: &quot;&lt;b&gt;{point.x}&lt;/b&gt;&lt;br/&gt;&quot;, &quot;pointFormat&quot;: &quot;{series.name}: {point.y}&lt;br/&gt;Total: {point.stackTotal}&quot;}, &quot;xAxis&quot;: {&quot;categories&quot;: [&quot;Apples&quot;, &quot;Oranges&quot;, &quot;Pears&quot;, &quot;Grapes&quot;, &quot;Bananas&quot;]}, &quot;yAxis&quot;: {&quot;min&quot;: 0, &quot;title&quot;: {&quot;text&quot;: &quot;Total fruit consumption&quot;}, &quot;stackLabels&quot;: {&quot;enabled&quot;: true, &quot;style&quot;: {&quot;fontWeight&quot;: &quot;bold&quot;, &quot;color&quot;: (Highcharts.defaultOptions.title.style &amp;&amp; Highcharts.defaultOptions.title.style.color) || &#x27;gray&#x27;}}}}; var chart = new Highcharts.Chart(option); var data = [{&quot;data&quot;: [5, 3, 4, 7, 2], &quot;type&quot;: &quot;column&quot;, &quot;name&quot;: &quot;John&quot;}, {&quot;data&quot;: [2, 2, 3, 2, 1], &quot;type&quot;: &quot;column&quot;, &quot;name&quot;: &quot;Jane&quot;}, {&quot;data&quot;: [3, 4, 4, 2, 5], &quot;type&quot;: &quot;column&quot;, &quot;name&quot;: &quot;Joe&quot;}]; var dataLen = data.length; for (var ix = 0; ix &lt; dataLen; ix++) { chart.addSeries(data[ix]); } }); &lt;/script&gt; &lt;/body&gt; &lt;/html&gt;\" height=600 width=800></iframe>"
      ],
      "text/plain": [
       "<highcharts.highcharts.highcharts.Highchart at 0x119978990>"
      ]
     },
     "execution_count": 10,
     "metadata": {},
     "output_type": "execute_result"
    }
   ],
   "source": [
    "from highcharts import Highchart   # 导入库 \n",
    "H = Highchart(width=800, height=600)  # 设置图形的大小\n",
    "\n",
    "# 配置数据项\n",
    "data1 = [5, 3, 4, 7, 2]\n",
    "data2 = [2, 2, 3, 2, 1]\n",
    "data3 = [3, 4, 4, 2, 5]\n",
    "\n",
    "options = {\n",
    "    'chart': {\n",
    "        'type': 'column'   # bar改成column\n",
    "    },\n",
    "    'title': {\n",
    "        'text': 'Stacked column chart'\n",
    "    },\n",
    "    'xAxis': {\n",
    "        'categories': ['Apples', 'Oranges', 'Pears', 'Grapes', 'Bananas']\n",
    "    },\n",
    "    'yAxis': {\n",
    "        'min': 0,\n",
    "        'title': {\n",
    "            'text': 'Total fruit consumption'\n",
    "        },\n",
    "        'stackLabels': {\n",
    "            'enabled': True,\n",
    "            'style': {\n",
    "                'fontWeight': 'bold',\n",
    "                'color': \"(Highcharts.defaultOptions.title.style && \\\n",
    "                    Highcharts.defaultOptions.title.style.color) || 'gray'\"\n",
    "            }\n",
    "        }\n",
    "    },\n",
    "    'legend': {\n",
    "        'align': 'right',\n",
    "        'x': -30,\n",
    "        'verticalAlign': 'top',\n",
    "        'y': 25,\n",
    "        'floating': True,\n",
    "        'backgroundColor':\n",
    "            \"Highcharts.defaultOptions.legend.backgroundColor || 'white'\",\n",
    "        'borderColor': '#CCC',\n",
    "        'borderWidth': 1,\n",
    "        'shadow': False\n",
    "    },\n",
    "    'tooltip': {\n",
    "        'headerFormat': '<b>{point.x}</b><br/>',\n",
    "        'pointFormat': '{series.name}: {point.y}<br/>Total: {point.stackTotal}'\n",
    "    },\n",
    "    # 在这里设置堆叠的信息\n",
    "    'plotOptions': {   # 将每个数据在柱状图上方显示出来\n",
    "        'column': {\n",
    "            'stacking': 'normal',\n",
    "            'dataLabels': {\n",
    "                'enabled': True  # 显示数据（柱状图顶部的数据显示出来）\n",
    "            }\n",
    "        }\n",
    "    }\n",
    "}\n",
    "\n",
    "H.set_dict_options(options)   # 添加配置\n",
    "\n",
    "# 将之前的bar改成column即可\n",
    "H.add_data_set(data1,'column','John')\n",
    "H.add_data_set(data2,'column','Jane')\n",
    "H.add_data_set(data3,'column','Joe')\n",
    "\n",
    "H"
   ]
  },
  {
   "cell_type": "markdown",
   "metadata": {},
   "source": [
    "### 分组堆叠柱状图-stack and group column"
   ]
  },
  {
   "cell_type": "code",
   "execution_count": 11,
   "metadata": {},
   "outputs": [
    {
     "data": {
      "text/html": [
       "<iframe style=\"border:0;outline:none;overflow:hidden\" srcdoc=\"&lt;!DOCTYPE html&gt; &lt;html lang=&quot;en&quot;&gt; &lt;head&gt; &lt;meta charset=&quot;utf-8&quot; /&gt; &lt;link href=&quot;https://www.highcharts.com/highslide/highslide.css&quot; rel=&quot;stylesheet&quot; /&gt; &lt;script type=&quot;text/javascript&quot; src=&quot;https://ajax.googleapis.com/ajax/libs/jquery/1.9.1/jquery.min.js&quot;&gt;&lt;/script&gt; &lt;script type=&quot;text/javascript&quot; src=&quot;https://code.highcharts.com/6/highcharts.js&quot;&gt;&lt;/script&gt; &lt;script type=&quot;text/javascript&quot; src=&quot;https://code.highcharts.com/6/highcharts-more.js&quot;&gt;&lt;/script&gt; &lt;script type=&quot;text/javascript&quot; src=&quot;https://code.highcharts.com/6/modules/heatmap.js&quot;&gt;&lt;/script&gt; &lt;script type=&quot;text/javascript&quot; src=&quot;https://code.highcharts.com/6/modules/exporting.js&quot;&gt;&lt;/script&gt; &lt;/head&gt; &lt;body style=&quot;margin:0;padding:0&quot;&gt; &lt;div id=&quot;container&quot; style=&quot;width:750px;height:600px;&quot;&gt;Loading....&lt;/div&gt; &lt;script&gt; $(function(){ Highcharts.setOptions({&quot;global&quot;: {}, &quot;lang&quot;: {}}); var option = {&quot;chart&quot;: {&quot;renderTo&quot;: &quot;container&quot;, &quot;width&quot;: 750, &quot;height&quot;: 600}, &quot;colors&quot;: {}, &quot;credits&quot;: {&quot;enabled&quot;: false}, &quot;drilldown&quot;: {}, &quot;exporting&quot;: {}, &quot;labels&quot;: {}, &quot;legend&quot;: {}, &quot;loading&quot;: {}, &quot;navigation&quot;: {}, &quot;pane&quot;: {}, &quot;plotOptions&quot;: {&quot;column&quot;: {&quot;stacking&quot;: &quot;normal&quot;, &quot;shadow&quot;: false, &quot;dataLabels&quot;: {&quot;enabled&quot;: true, &quot;inside&quot;: true}}}, &quot;series&quot;: {}, &quot;subtitle&quot;: {}, &quot;title&quot;: {&quot;text&quot;: &quot;\\u57fa\\u4e8e\\u6027\\u522b\\u7684\\u6c34\\u679c\\u6d88\\u8d39\\u60c5\\u51b5&quot;}, &quot;tooltip&quot;: {&quot;formatter&quot;: function () { return &#x27;&lt;b&gt;&#x27; + this.x + &#x27;&lt;/b&gt;&lt;br/&gt;&#x27; + this.series.name + &#x27;: &#x27; + this.y + &#x27;&lt;br/&gt;&#x27; + &#x27;Total: &#x27; + this.point.stackTotal; }}, &quot;xAxis&quot;: {&quot;categories&quot;: [&quot;Apples&quot;, &quot;Oranges&quot;, &quot;Pears&quot;, &quot;Grapes&quot;, &quot;Bananas&quot;]}, &quot;yAxis&quot;: {&quot;allowDecimals&quot;: false, &quot;min&quot;: 0, &quot;title&quot;: {&quot;text&quot;: &quot;Number of fruits&quot;}}}; var chart = new Highcharts.Chart(option); var data = [{&quot;data&quot;: [5, 3, 3, 9, 2], &quot;type&quot;: &quot;column&quot;, &quot;stack&quot;: &quot;male&quot;, &quot;name&quot;: &quot;John&quot;}, {&quot;data&quot;: [7, 5, 4, 3, 5], &quot;type&quot;: &quot;column&quot;, &quot;stack&quot;: &quot;male&quot;, &quot;name&quot;: &quot;Joe&quot;}, {&quot;data&quot;: [2, 5, 6, 2, 8], &quot;type&quot;: &quot;column&quot;, &quot;stack&quot;: &quot;female&quot;, &quot;name&quot;: &quot;Jane&quot;}, {&quot;data&quot;: [3, 1, 8, 4, 3], &quot;type&quot;: &quot;column&quot;, &quot;stack&quot;: &quot;female&quot;, &quot;name&quot;: &quot;Janet&quot;}]; var dataLen = data.length; for (var ix = 0; ix &lt; dataLen; ix++) { chart.addSeries(data[ix]); } }); &lt;/script&gt; &lt;/body&gt; &lt;/html&gt;\" height=600 width=750></iframe>"
      ],
      "text/plain": [
       "<highcharts.highcharts.highcharts.Highchart at 0x11997bc90>"
      ]
     },
     "execution_count": 11,
     "metadata": {},
     "output_type": "execute_result"
    }
   ],
   "source": [
    "# 导入库\n",
    "from highcharts import Highchart   \n",
    "# 设置图形的大小\n",
    "H = Highchart(width=750, height=600)  \n",
    "\n",
    "# 绘图数据\n",
    "data1 = [5, 3, 3, 9, 2]\n",
    "data2 = [7, 5, 4, 3, 5]\n",
    "data3 = [2, 5, 6, 2, 8]\n",
    "data4 = [3, 1, 8, 4, 3]\n",
    "\n",
    "# 配置项\n",
    "options = {\n",
    "\t'title': {    # 主标题\n",
    "        'text': '基于性别的水果消费情况'\n",
    "    },\n",
    "\n",
    "    'xAxis': {  # x轴的分类数据\n",
    "        'categories': ['Apples', 'Oranges', 'Pears', 'Grapes', 'Bananas']\n",
    "    },\n",
    "\n",
    "    'yAxis': {  # y轴设置\n",
    "        'allowDecimals': False,\n",
    "        'min': 0,\n",
    "        'title': {\n",
    "            'text': 'Number of fruits'\n",
    "        }\n",
    "    },\n",
    "\n",
    "    'tooltip': {  # 设置显示数据情况\n",
    "        'formatter': \"function () {\\\n",
    "                        return '<b>' + this.x + '</b><br/>' +\\\n",
    "                            this.series.name + ': ' + this.y + '<br/>' +\\\n",
    "                            'Total: ' + this.point.stackTotal;\\\n",
    "                    }\"\n",
    "    },\n",
    "    'plotOptions': {\n",
    "        'column': {\n",
    "            'stacking': 'normal',\n",
    "#             'pointPadding': 0.2,\n",
    "#             'borderWidth': 0,\n",
    "#              'groupPadding': 0.1,  # x轴上每个组之间的距离\n",
    "            'shadow': False,   # 是否显示柱状图的阴影\n",
    "            \n",
    "            'dataLabels': {  # 重点：将数据显示在柱子外面或里面\n",
    "                'enabled': True,\n",
    "                'inside': True\n",
    "            }\n",
    "        }\n",
    "    }\n",
    "}\n",
    "\n",
    "# 添加配置项\n",
    "H.set_dict_options(options)\n",
    "\n",
    "# 添加数据项：stack参数设置\n",
    "H.add_data_set(data1, 'column', 'John', stack='male' )\n",
    "H.add_data_set(data2, 'column', 'Joe', stack='male')\n",
    "H.add_data_set(data3, 'column', 'Jane', stack='female')\n",
    "H.add_data_set(data4, 'column', 'Janet', stack='female')\n",
    "\n",
    "H"
   ]
  },
  {
   "cell_type": "markdown",
   "metadata": {},
   "source": [
    "### 百分比柱状图"
   ]
  },
  {
   "cell_type": "code",
   "execution_count": 12,
   "metadata": {},
   "outputs": [
    {
     "data": {
      "text/html": [
       "<iframe style=\"border:0;outline:none;overflow:hidden\" srcdoc=\"&lt;!DOCTYPE html&gt; &lt;html lang=&quot;en&quot;&gt; &lt;head&gt; &lt;meta charset=&quot;utf-8&quot; /&gt; &lt;link href=&quot;https://www.highcharts.com/highslide/highslide.css&quot; rel=&quot;stylesheet&quot; /&gt; &lt;script type=&quot;text/javascript&quot; src=&quot;https://ajax.googleapis.com/ajax/libs/jquery/1.9.1/jquery.min.js&quot;&gt;&lt;/script&gt; &lt;script type=&quot;text/javascript&quot; src=&quot;https://code.highcharts.com/6/highcharts.js&quot;&gt;&lt;/script&gt; &lt;script type=&quot;text/javascript&quot; src=&quot;https://code.highcharts.com/6/highcharts-more.js&quot;&gt;&lt;/script&gt; &lt;script type=&quot;text/javascript&quot; src=&quot;https://code.highcharts.com/6/modules/heatmap.js&quot;&gt;&lt;/script&gt; &lt;script type=&quot;text/javascript&quot; src=&quot;https://code.highcharts.com/6/modules/exporting.js&quot;&gt;&lt;/script&gt; &lt;/head&gt; &lt;body style=&quot;margin:0;padding:0&quot;&gt; &lt;div id=&quot;container&quot; style=&quot;width:800px;height:600px;&quot;&gt;Loading....&lt;/div&gt; &lt;script&gt; $(function(){ Highcharts.setOptions({&quot;global&quot;: {}, &quot;lang&quot;: {}}); var option = {&quot;chart&quot;: {&quot;renderTo&quot;: &quot;container&quot;, &quot;width&quot;: 800, &quot;height&quot;: 600, &quot;type&quot;: &quot;column&quot;}, &quot;colors&quot;: {}, &quot;credits&quot;: {&quot;enabled&quot;: false}, &quot;drilldown&quot;: {}, &quot;exporting&quot;: {}, &quot;labels&quot;: {}, &quot;legend&quot;: {&quot;reversed&quot;: true}, &quot;loading&quot;: {}, &quot;navigation&quot;: {}, &quot;pane&quot;: {}, &quot;plotOptions&quot;: {&quot;series&quot;: {&quot;stacking&quot;: &quot;percent&quot;}}, &quot;series&quot;: {}, &quot;subtitle&quot;: {}, &quot;title&quot;: {&quot;text&quot;: &quot;\\u5e26\\u6709\\u767e\\u5206\\u6bd4\\u7684\\u67f1\\u72b6\\u56fe&quot;}, &quot;tooltip&quot;: {&quot;pointFormat&quot;: &quot;&lt;span style=\\&quot;color:{series.color}\\&quot;&gt;{series.name}&lt;/span&gt;: &lt;b&gt;{point.y}&lt;/b&gt; ({point.percentage:.0f}%)&lt;br/&gt;&quot;, &quot;shared&quot;: true}, &quot;xAxis&quot;: {&quot;categories&quot;: [&quot;Apples&quot;, &quot;Oranges&quot;, &quot;Pears&quot;, &quot;Grapes&quot;, &quot;Bananas&quot;]}, &quot;yAxis&quot;: {&quot;min&quot;: 0, &quot;title&quot;: {&quot;text&quot;: &quot;Total fruit consumption&quot;}}}; var chart = new Highcharts.Chart(option); var data = [{&quot;data&quot;: [5, 3, 4, 7, 2], &quot;type&quot;: &quot;bar&quot;, &quot;name&quot;: &quot;John&quot;}, {&quot;data&quot;: [2, 2, 3, 2, 1], &quot;type&quot;: &quot;bar&quot;, &quot;name&quot;: &quot;Jane&quot;}, {&quot;data&quot;: [3, 4, 4, 2, 5], &quot;type&quot;: &quot;bar&quot;, &quot;name&quot;: &quot;Joe&quot;}]; var dataLen = data.length; for (var ix = 0; ix &lt; dataLen; ix++) { chart.addSeries(data[ix]); } }); &lt;/script&gt; &lt;/body&gt; &lt;/html&gt;\" height=600 width=800></iframe>"
      ],
      "text/plain": [
       "<highcharts.highcharts.highcharts.Highchart at 0x10ea2a7d0>"
      ]
     },
     "execution_count": 12,
     "metadata": {},
     "output_type": "execute_result"
    }
   ],
   "source": [
    "from highcharts import Highchart   # 导入库 \n",
    "H = Highchart(width=800, height=600)  # 设置图形的大小\n",
    "\n",
    "# 配置数据项\n",
    "data1 = [5, 3, 4, 7, 2]\n",
    "data2 = [2, 2, 3, 2, 1]\n",
    "data3 = [3, 4, 4, 2, 5]\n",
    "\n",
    "options = {\n",
    "    'chart': {\n",
    "        'type': 'column'  # 图表类型\n",
    "    },\n",
    "    'title': {  # 主标题\n",
    "        'text': '带有百分比的柱状图'\n",
    "    },\n",
    "    'xAxis': {\n",
    "        'categories': ['Apples', 'Oranges', 'Pears', 'Grapes', 'Bananas']\n",
    "    },\n",
    "    'yAxis': {\n",
    "        'min': 0,\n",
    "        'title': {\n",
    "            'text': 'Total fruit consumption'\n",
    "        }\n",
    "    },\n",
    "    'tooltip': {\n",
    "        'pointFormat': '<span style=\"color:{series.color}\">{series.name}</span>: <b>{point.y}</b> ({point.percentage:.0f}%)<br/>',\n",
    "        'shared': True\n",
    "    },\n",
    "    'legend': {\n",
    "        'reversed': True\n",
    "    },\n",
    "    'plotOptions': {\n",
    "        'series': {   # 将stacking参数设置成percent\n",
    "            'stacking': 'percent'   # 多种取值：normal+percent\n",
    "        }\n",
    "    }\n",
    "}\n",
    "\n",
    "H.set_dict_options(options)   # 添加配置\n",
    "\n",
    "H.add_data_set(data1,'bar','John')\n",
    "H.add_data_set(data2,'bar','Jane')\n",
    "H.add_data_set(data3,'bar','Joe')\n",
    "\n",
    "H"
   ]
  },
  {
   "cell_type": "markdown",
   "metadata": {},
   "source": [
    "### 坐标属性倾斜的柱状图\n",
    "\n",
    "当横轴属性值的名称过长的时候，如何进行显示？"
   ]
  },
  {
   "cell_type": "code",
   "execution_count": 13,
   "metadata": {
    "code_folding": [
     47,
     59
    ]
   },
   "outputs": [
    {
     "data": {
      "text/html": [
       "<iframe style=\"border:0;outline:none;overflow:hidden\" srcdoc=\"&lt;!DOCTYPE html&gt; &lt;html lang=&quot;en&quot;&gt; &lt;head&gt; &lt;meta charset=&quot;utf-8&quot; /&gt; &lt;link href=&quot;https://www.highcharts.com/highslide/highslide.css&quot; rel=&quot;stylesheet&quot; /&gt; &lt;script type=&quot;text/javascript&quot; src=&quot;https://ajax.googleapis.com/ajax/libs/jquery/1.9.1/jquery.min.js&quot;&gt;&lt;/script&gt; &lt;script type=&quot;text/javascript&quot; src=&quot;https://code.highcharts.com/6/highcharts.js&quot;&gt;&lt;/script&gt; &lt;script type=&quot;text/javascript&quot; src=&quot;https://code.highcharts.com/6/highcharts-more.js&quot;&gt;&lt;/script&gt; &lt;script type=&quot;text/javascript&quot; src=&quot;https://code.highcharts.com/6/modules/heatmap.js&quot;&gt;&lt;/script&gt; &lt;script type=&quot;text/javascript&quot; src=&quot;https://code.highcharts.com/6/modules/exporting.js&quot;&gt;&lt;/script&gt; &lt;/head&gt; &lt;body style=&quot;margin:0;padding:0&quot;&gt; &lt;div id=&quot;container&quot; style=&quot;width:800px;height:600px;&quot;&gt;Loading....&lt;/div&gt; &lt;script&gt; $(function(){ Highcharts.setOptions({&quot;global&quot;: {}, &quot;lang&quot;: {}}); var option = {&quot;chart&quot;: {&quot;renderTo&quot;: &quot;container&quot;, &quot;width&quot;: 800, &quot;height&quot;: 600, &quot;type&quot;: &quot;column&quot;}, &quot;colors&quot;: {}, &quot;credits&quot;: {&quot;enabled&quot;: false}, &quot;drilldown&quot;: {}, &quot;exporting&quot;: {}, &quot;labels&quot;: {}, &quot;legend&quot;: {&quot;enabled&quot;: false}, &quot;loading&quot;: {}, &quot;navigation&quot;: {}, &quot;pane&quot;: {}, &quot;plotOptions&quot;: {&quot;column&quot;: {&quot;stacking&quot;: &quot;normal&quot;, &quot;dataLabels&quot;: {&quot;enabled&quot;: true, &quot;inside&quot;: false, &quot;rotation&quot;: -1, &quot;color&quot;: &quot;#FFFFFF&quot;, &quot;format&quot;: &quot;{point.y:.1f}&quot;, &quot;y&quot;: 10}}}, &quot;series&quot;: {}, &quot;subtitle&quot;: {&quot;text&quot;: &quot;\\u6765\\u6e90: &lt;a href=\\&quot;http://en.wikipedia.org/wiki/List_of_cities_proper_by_population\\&quot;&gt;\\u7ef4\\u57fa\\u767e\\u79d1&lt;/a&gt;&quot;}, &quot;title&quot;: {&quot;text&quot;: &quot;2017\\u5e74\\u5ea6\\u4e16\\u754c\\u5927\\u57ce\\u5e02&quot;}, &quot;tooltip&quot;: {&quot;pointFormat&quot;: &quot;Population in 2017: &lt;b&gt;{point.y:.1f} millions&lt;/b&gt;&quot;}, &quot;xAxis&quot;: {&quot;type&quot;: &quot;category&quot;, &quot;labels&quot;: {&quot;rotation&quot;: -45, &quot;style&quot;: {&quot;fontSize&quot;: &quot;12px&quot;, &quot;fontFamily&quot;: &quot;Verdana, sans-serif&quot;}}}, &quot;yAxis&quot;: {&quot;min&quot;: 0, &quot;title&quot;: {&quot;text&quot;: &quot;\\u4eba\\u53e3\\u6570(\\u767e\\u4e07)&quot;}}}; var chart = new Highcharts.Chart(option); var data = [{&quot;data&quot;: [[&quot;Shanghai&quot;, 24.2], [&quot;Beijing&quot;, 20.8], [&quot;Karachi&quot;, 14.9], [&quot;Shenzhen&quot;, 13.7], [&quot;Guangzhou&quot;, 13.1], [&quot;Istanbul&quot;, 12.7], [&quot;Mumbai&quot;, 12.4], [&quot;Moscow&quot;, 12.2], [&quot;S\\u00e3o Paulo&quot;, 12.0], [&quot;Delhi&quot;, 11.7], [&quot;Kinshasa&quot;, 11.5], [&quot;Tianjin&quot;, 11.2], [&quot;Lahore&quot;, 11.1], [&quot;Jakarta&quot;, 10.6], [&quot;Dongguan&quot;, 10.6], [&quot;Lagos&quot;, 10.6], [&quot;Bengaluru&quot;, 10.3], [&quot;Seoul&quot;, 9.8], [&quot;Foshan&quot;, 9.3], [&quot;Tokyo&quot;, 9.3]], &quot;type&quot;: &quot;column&quot;, &quot;name&quot;: &quot;Population&quot;}]; var dataLen = data.length; for (var ix = 0; ix &lt; dataLen; ix++) { chart.addSeries(data[ix]); } }); &lt;/script&gt; &lt;/body&gt; &lt;/html&gt;\" height=600 width=800></iframe>"
      ],
      "text/plain": [
       "<highcharts.highcharts.highcharts.Highchart at 0x11997c810>"
      ]
     },
     "execution_count": 13,
     "metadata": {},
     "output_type": "execute_result"
    }
   ],
   "source": [
    "from highcharts import Highchart   # 导入库 \n",
    "H = Highchart(width=800, height=600)  # 设置图形的大小\n",
    "\n",
    "data = [\n",
    "        ['Shanghai', 24.2],\n",
    "        ['Beijing', 20.8],\n",
    "        ['Karachi', 14.9],\n",
    "        ['Shenzhen', 13.7],\n",
    "        ['Guangzhou', 13.1],\n",
    "        ['Istanbul', 12.7],\n",
    "        ['Mumbai', 12.4],\n",
    "        ['Moscow', 12.2],\n",
    "        ['São Paulo', 12.0],\n",
    "        ['Delhi', 11.7],\n",
    "        ['Kinshasa', 11.5],\n",
    "        ['Tianjin', 11.2],\n",
    "        ['Lahore', 11.1],\n",
    "        ['Jakarta', 10.6],\n",
    "        ['Dongguan', 10.6],\n",
    "        ['Lagos', 10.6],\n",
    "        ['Bengaluru', 10.3],\n",
    "        ['Seoul', 9.8],\n",
    "        ['Foshan', 9.3],\n",
    "        ['Tokyo', 9.3]\n",
    "    ]\n",
    "\n",
    "\n",
    "options = {\n",
    "    'chart': {\n",
    "        'type': 'column'\n",
    "    },\n",
    "    'title': {\n",
    "        'text': '2017年度世界大城市'\n",
    "    },\n",
    "    'subtitle': {   # 带上了url地址，点击进入链接的文章中\n",
    "        'text': '来源: <a href=\"http://en.wikipedia.org/wiki/List_of_cities_proper_by_population\">维基百科</a>'\n",
    "    },\n",
    "    'xAxis': {\n",
    "        'type': 'category',\n",
    "        'labels': {\n",
    "            'rotation': -45,   # 控制倾斜方向：+ 表示向右倾斜\n",
    "            'style': {\n",
    "                'fontSize': '12px',  # 字体设置\n",
    "                'fontFamily': 'Verdana, sans-serif'\n",
    "            }\n",
    "        }\n",
    "    },\n",
    "    'yAxis': {\n",
    "        'min': 0,\n",
    "        'title': {\n",
    "            'text': '人口数(百万)',\n",
    "#             'rotation': -1,\n",
    "#             'style': {\n",
    "#                 'fontSize': '13px',\n",
    "#                 'fontFamily': 'Verdana, sans-serif'\n",
    "#             }\n",
    "        }\n",
    "    },\n",
    "    \n",
    "    'legend': {\n",
    "        'enabled': False\n",
    "    },\n",
    "    \n",
    "    'tooltip': {   # 当鼠标放到柱子上去的时候显示的内容\n",
    "        'pointFormat': 'Population in 2017: <b>{point.y:.1f} millions</b>'\n",
    "    },\n",
    "    \n",
    "    # 重要设置项\n",
    "    'plotOptions': {   # 将每个数据在柱状图上方显示出来\n",
    "        'column': {\n",
    "            'stacking': 'normal',\n",
    "            'dataLabels': {\n",
    "                'enabled': True,\n",
    "                'inside': False,\n",
    "                'rotation': -1,\n",
    "                'color': '#FFFFFF',\n",
    "#                 'align': 'left',\n",
    "                'format': '{point.y:.1f}', \n",
    "                'y': 10,   # 10 pixels down from the top\n",
    "#                 'style': {\n",
    "#                     'fontSize': '15px',\n",
    "#                     'fontFamily': 'Verdana, sans-serif'\n",
    "#                 }\n",
    "            }\n",
    "        }\n",
    "    }\n",
    "}\n",
    "\n",
    "\n",
    "H.set_dict_options(options)   # 添加配置\n",
    "\n",
    "H.add_data_set(data,'column','Population')\n",
    "\n",
    "H"
   ]
  },
  {
   "cell_type": "markdown",
   "metadata": {},
   "source": [
    "### 区间变化的柱状图\n",
    "\n",
    "根据最大值和最小值变化的柱状图，水平方向"
   ]
  },
  {
   "cell_type": "code",
   "execution_count": 45,
   "metadata": {},
   "outputs": [
    {
     "data": {
      "text/html": [
       "<iframe style=\"border:0;outline:none;overflow:hidden\" srcdoc=\"&lt;!DOCTYPE html&gt; &lt;html lang=&quot;en&quot;&gt; &lt;head&gt; &lt;meta charset=&quot;utf-8&quot; /&gt; &lt;link href=&quot;https://www.highcharts.com/highslide/highslide.css&quot; rel=&quot;stylesheet&quot; /&gt; &lt;script type=&quot;text/javascript&quot; src=&quot;https://ajax.googleapis.com/ajax/libs/jquery/1.9.1/jquery.min.js&quot;&gt;&lt;/script&gt; &lt;script type=&quot;text/javascript&quot; src=&quot;https://code.highcharts.com/6/highcharts.js&quot;&gt;&lt;/script&gt; &lt;script type=&quot;text/javascript&quot; src=&quot;https://code.highcharts.com/6/highcharts-more.js&quot;&gt;&lt;/script&gt; &lt;script type=&quot;text/javascript&quot; src=&quot;https://code.highcharts.com/6/modules/heatmap.js&quot;&gt;&lt;/script&gt; &lt;script type=&quot;text/javascript&quot; src=&quot;https://code.highcharts.com/6/modules/exporting.js&quot;&gt;&lt;/script&gt; &lt;/head&gt; &lt;body style=&quot;margin:0;padding:0&quot;&gt; &lt;div id=&quot;container&quot; style=&quot;width:800px;height:600px;&quot;&gt;Loading....&lt;/div&gt; &lt;script&gt; $(function(){ Highcharts.setOptions({&quot;global&quot;: {}, &quot;lang&quot;: {}}); var option = {&quot;chart&quot;: {&quot;renderTo&quot;: &quot;container&quot;, &quot;width&quot;: 800, &quot;height&quot;: 600, &quot;type&quot;: &quot;columnrange&quot;, &quot;inverted&quot;: true}, &quot;colors&quot;: {}, &quot;credits&quot;: {&quot;enabled&quot;: false}, &quot;drilldown&quot;: {}, &quot;exporting&quot;: {}, &quot;labels&quot;: {}, &quot;legend&quot;: {&quot;enabled&quot;: false}, &quot;loading&quot;: {}, &quot;navigation&quot;: {}, &quot;pane&quot;: {}, &quot;plotOptions&quot;: {&quot;columnrange&quot;: {&quot;dataLabels&quot;: {&quot;enabled&quot;: true, &quot;format&quot;: &quot;{y}\\u00b0C&quot;}}}, &quot;series&quot;: {}, &quot;subtitle&quot;: {&quot;text&quot;: &quot;subtitle&quot;}, &quot;title&quot;: {&quot;text&quot;: &quot;title&quot;}, &quot;tooltip&quot;: {&quot;valueSuffix&quot;: &quot;\\u00b0C&quot;}, &quot;xAxis&quot;: {&quot;categories&quot;: [&quot;Jan&quot;, &quot;Feb&quot;, &quot;Mar&quot;, &quot;Apr&quot;, &quot;May&quot;, &quot;Jun&quot;, &quot;Jul&quot;, &quot;Aug&quot;, &quot;Sep&quot;, &quot;Oct&quot;, &quot;Nov&quot;, &quot;Dec&quot;]}, &quot;yAxis&quot;: {&quot;title&quot;: {&quot;text&quot;: &quot;Temperature ( \\u00b0C )&quot;}}}; var chart = new Highcharts.Chart(option); var data = [{&quot;data&quot;: [[-9.9, 10.3], [-8.6, 8.5], [-10.2, 11.8], [-1.7, 12.2], [-0.6, 23.1], [3.7, 25.4], [6.0, 26.2], [6.7, 21.4], [3.5, 19.5], [-1.3, 16.0], [-8.7, 9.4], [-9.0, 8.6]], &quot;type&quot;: &quot;columnrange&quot;, &quot;name&quot;: &quot;Temperatures&quot;}]; var dataLen = data.length; for (var ix = 0; ix &lt; dataLen; ix++) { chart.addSeries(data[ix]); } }); &lt;/script&gt; &lt;/body&gt; &lt;/html&gt;\" height=600 width=800></iframe>"
      ],
      "text/plain": [
       "<highcharts.highcharts.highcharts.Highchart at 0x119a83550>"
      ]
     },
     "execution_count": 45,
     "metadata": {},
     "output_type": "execute_result"
    }
   ],
   "source": [
    "from highcharts import Highchart   # 导入库 \n",
    "H = Highchart(width=800, height=600)  # 设置图形的大小\n",
    "\n",
    "data_range = [\n",
    "        [-9.9, 10.3],\n",
    "        [-8.6, 8.5],\n",
    "        [-10.2, 11.8],\n",
    "        [-1.7, 12.2],\n",
    "        [-0.6, 23.1],\n",
    "        [3.7, 25.4],\n",
    "        [6.0, 26.2],\n",
    "        [6.7, 21.4],\n",
    "        [3.5, 19.5],\n",
    "        [-1.3, 16.0],\n",
    "        [-8.7, 9.4],\n",
    "        [-9.0, 8.6]\n",
    "        ]\n",
    "\n",
    "\n",
    "options = {\n",
    "    'chart': {\n",
    "        'type': 'columnrange',\n",
    "        'inverted': True\n",
    "    },\n",
    "    \n",
    "#     # Note: Prefer using linkedDescription or caption instead.\n",
    "#     'accessibility': {   # 取消了该属性\n",
    "#         'description': 'Image description'\n",
    "#     },\n",
    "\n",
    "    'title': {\n",
    "        'text': 'title'\n",
    "    },\n",
    "\n",
    "    'subtitle': {\n",
    "        'text': 'subtitle'\n",
    "    },\n",
    "\n",
    "    'xAxis': {\n",
    "        'categories': ['Jan', 'Feb', 'Mar', 'Apr', 'May', 'Jun',\n",
    "            'Jul', 'Aug', 'Sep', 'Oct', 'Nov', 'Dec']\n",
    "    },\n",
    "\n",
    "    'yAxis': {\n",
    "        'title': {\n",
    "            'text': 'Temperature ( °C )'\n",
    "        }\n",
    "    },\n",
    "\n",
    "    'tooltip': {\n",
    "        'valueSuffix': '°C'\n",
    "    },\n",
    "    'legend': {\n",
    "        'enabled': False\n",
    "    },\n",
    "    'plotOptions': {\n",
    "        'columnrange': {\n",
    "            'dataLabels': {\n",
    "                'enabled': True,\n",
    "                'format': '{y}°C'\n",
    "            }\n",
    "        }\n",
    "    }\n",
    "}\n",
    "              \n",
    "H.set_dict_options(options)   # 添加配置\n",
    "\n",
    "H.add_data_set(data_range,'columnrange','Temperatures')  # 添加数据\n",
    "\n",
    "H"
   ]
  },
  {
   "cell_type": "markdown",
   "metadata": {},
   "source": [
    "### 读取HTML表格数据绘图"
   ]
  },
  {
   "cell_type": "code",
   "execution_count": 29,
   "metadata": {},
   "outputs": [
    {
     "data": {
      "text/html": [
       "<div>\n",
       "<style scoped>\n",
       "    .dataframe tbody tr th:only-of-type {\n",
       "        vertical-align: middle;\n",
       "    }\n",
       "\n",
       "    .dataframe tbody tr th {\n",
       "        vertical-align: top;\n",
       "    }\n",
       "\n",
       "    .dataframe thead th {\n",
       "        text-align: right;\n",
       "    }\n",
       "</style>\n",
       "<table border=\"1\" class=\"dataframe\">\n",
       "  <thead>\n",
       "    <tr style=\"text-align: right;\">\n",
       "      <th></th>\n",
       "      <th>Jane</th>\n",
       "      <th>John</th>\n",
       "    </tr>\n",
       "  </thead>\n",
       "  <tbody>\n",
       "    <tr>\n",
       "      <th>Apples</th>\n",
       "      <td>3</td>\n",
       "      <td>4</td>\n",
       "    </tr>\n",
       "    <tr>\n",
       "      <th>Pears</th>\n",
       "      <td>2</td>\n",
       "      <td>0</td>\n",
       "    </tr>\n",
       "    <tr>\n",
       "      <th>Plums</th>\n",
       "      <td>5</td>\n",
       "      <td>11</td>\n",
       "    </tr>\n",
       "    <tr>\n",
       "      <th>Bananas</th>\n",
       "      <td>1</td>\n",
       "      <td>1</td>\n",
       "    </tr>\n",
       "    <tr>\n",
       "      <th>Oranges</th>\n",
       "      <td>2</td>\n",
       "      <td>4</td>\n",
       "    </tr>\n",
       "  </tbody>\n",
       "</table>\n",
       "</div>"
      ],
      "text/plain": [
       "         Jane  John\n",
       "Apples      3     4\n",
       "Pears       2     0\n",
       "Plums       5    11\n",
       "Bananas     1     1\n",
       "Oranges     2     4"
      ]
     },
     "execution_count": 29,
     "metadata": {},
     "output_type": "execute_result"
    }
   ],
   "source": [
    "# 通过剪贴板方式生成数据\n",
    "\n",
    "data_html = pd.read_clipboard()  \n",
    "data_html"
   ]
  },
  {
   "cell_type": "code",
   "execution_count": 50,
   "metadata": {},
   "outputs": [
    {
     "data": {
      "text/html": [
       "<iframe style=\"border:0;outline:none;overflow:hidden\" srcdoc=\"&lt;!DOCTYPE html&gt; &lt;html lang=&quot;en&quot;&gt; &lt;head&gt; &lt;meta charset=&quot;utf-8&quot; /&gt; &lt;link href=&quot;https://www.highcharts.com/highslide/highslide.css&quot; rel=&quot;stylesheet&quot; /&gt; &lt;script type=&quot;text/javascript&quot; src=&quot;https://ajax.googleapis.com/ajax/libs/jquery/1.9.1/jquery.min.js&quot;&gt;&lt;/script&gt; &lt;script type=&quot;text/javascript&quot; src=&quot;https://code.highcharts.com/6/highcharts.js&quot;&gt;&lt;/script&gt; &lt;script type=&quot;text/javascript&quot; src=&quot;https://code.highcharts.com/6/highcharts-more.js&quot;&gt;&lt;/script&gt; &lt;script type=&quot;text/javascript&quot; src=&quot;https://code.highcharts.com/6/modules/heatmap.js&quot;&gt;&lt;/script&gt; &lt;script type=&quot;text/javascript&quot; src=&quot;https://code.highcharts.com/6/modules/exporting.js&quot;&gt;&lt;/script&gt; &lt;/head&gt; &lt;body style=&quot;margin:0;padding:0&quot;&gt; &lt;div id=&quot;container&quot; style=&quot;width:800px;height:600px;&quot;&gt;Loading....&lt;/div&gt; &lt;script&gt; $(function(){ Highcharts.setOptions({&quot;global&quot;: {}, &quot;lang&quot;: {}}); var option = {&quot;chart&quot;: {&quot;renderTo&quot;: &quot;container&quot;, &quot;width&quot;: 800, &quot;height&quot;: 600, &quot;type&quot;: &quot;column&quot;}, &quot;colors&quot;: {}, &quot;credits&quot;: {&quot;enabled&quot;: false}, &quot;drilldown&quot;: {}, &quot;exporting&quot;: {}, &quot;labels&quot;: {}, &quot;legend&quot;: {}, &quot;loading&quot;: {}, &quot;navigation&quot;: {}, &quot;pane&quot;: {}, &quot;plotOptions&quot;: {}, &quot;series&quot;: {}, &quot;subtitle&quot;: {}, &quot;title&quot;: {&quot;text&quot;: &quot;Data extracted from a HTML table in the page&quot;}, &quot;tooltip&quot;: {&quot;formatter&quot;: function () { return &#x27;&lt;b&gt;&#x27; + this.series.name + &#x27;&lt;/b&gt;&lt;br/&gt;&#x27; + this.point.y + &#x27; &#x27; + this.point.name.toLowerCase(); }}, &quot;xAxis&quot;: {}, &quot;yAxis&quot;: {&quot;allowDecimals&quot;: false, &quot;title&quot;: {&quot;text&quot;: &quot;Units&quot;}}}; var chart = new Highcharts.Chart(option); var data = [{&quot;data&quot;: &quot;{\\&quot;Jane\\&quot;:{\\&quot;Apples\\&quot;:3,\\&quot;Pears\\&quot;:2,\\&quot;Plums\\&quot;:5,\\&quot;Bananas\\&quot;:1,\\&quot;Oranges\\&quot;:2},\\&quot;John\\&quot;:{\\&quot;Apples\\&quot;:4,\\&quot;Pears\\&quot;:0,\\&quot;Plums\\&quot;:11,\\&quot;Bananas\\&quot;:1,\\&quot;Oranges\\&quot;:4}}&quot;, &quot;type&quot;: &quot;column&quot;, &quot;name&quot;: &quot;Series 1&quot;}]; var dataLen = data.length; for (var ix = 0; ix &lt; dataLen; ix++) { chart.addSeries(data[ix]); } }); &lt;/script&gt; &lt;/body&gt; &lt;/html&gt;\" height=600 width=800></iframe>"
      ],
      "text/plain": [
       "<highcharts.highcharts.highcharts.Highchart at 0x119ac5590>"
      ]
     },
     "execution_count": 50,
     "metadata": {},
     "output_type": "execute_result"
    }
   ],
   "source": [
    "from highcharts import Highchart   # 导入库 \n",
    "H = Highchart(width=800, height=600)  # 设置图形的大小\n",
    "\n",
    "\n",
    "options = {\n",
    "#     'data': {\n",
    "#         'table': 'datatable'\n",
    "#     },\n",
    "    'chart': {\n",
    "        'type': 'column'\n",
    "    },\n",
    "    'title': {\n",
    "        'text': 'Data extracted from a HTML table in the page'\n",
    "    },\n",
    "    'yAxis': {\n",
    "        'allowDecimals': False,\n",
    "        'title': {\n",
    "            'text': 'Units'\n",
    "        }\n",
    "    },\n",
    "    'tooltip': {\n",
    "        'formatter': \"function () {\\\n",
    "            return '<b>' + this.series.name + '</b><br/>' + \\\n",
    "                this.point.y + ' ' + this.point.name.toLowerCase();\\\n",
    "                }\"\n",
    "    }\n",
    "}\n",
    "\n",
    "\n",
    "H.set_dict_options(options)   # 添加配置\n",
    "H.add_data_set(data_html.to_json(),'column')  # 添加数据\n",
    "H"
   ]
  },
  {
   "cell_type": "code",
   "execution_count": null,
   "metadata": {},
   "outputs": [],
   "source": []
  }
 ],
 "metadata": {
  "hide_input": false,
  "kernelspec": {
   "display_name": "Python 3",
   "language": "python",
   "name": "python3"
  },
  "language_info": {
   "codemirror_mode": {
    "name": "ipython",
    "version": 3
   },
   "file_extension": ".py",
   "mimetype": "text/x-python",
   "name": "python",
   "nbconvert_exporter": "python",
   "pygments_lexer": "ipython3",
   "version": "3.7.5"
  },
  "latex_envs": {
   "LaTeX_envs_menu_present": true,
   "autoclose": false,
   "autocomplete": true,
   "bibliofile": "biblio.bib",
   "cite_by": "apalike",
   "current_citInitial": 1,
   "eqLabelWithNumbers": true,
   "eqNumInitial": 1,
   "hotkeys": {
    "equation": "Ctrl-E",
    "itemize": "Ctrl-I"
   },
   "labels_anchors": false,
   "latex_user_defs": false,
   "report_style_numbering": false,
   "user_envs_cfg": false
  },
  "nbTranslate": {
   "displayLangs": [
    "*"
   ],
   "hotkey": "alt-t",
   "langInMainMenu": true,
   "sourceLang": "en",
   "targetLang": "fr",
   "useGoogleTranslate": true
  },
  "toc": {
   "base_numbering": 1,
   "nav_menu": {},
   "number_sections": true,
   "sideBar": true,
   "skip_h1_title": false,
   "title_cell": "Table of Contents",
   "title_sidebar": "Contents",
   "toc_cell": false,
   "toc_position": {},
   "toc_section_display": true,
   "toc_window_display": false
  },
  "varInspector": {
   "cols": {
    "lenName": 16,
    "lenType": 16,
    "lenVar": 40
   },
   "kernels_config": {
    "python": {
     "delete_cmd_postfix": "",
     "delete_cmd_prefix": "del ",
     "library": "var_list.py",
     "varRefreshCmd": "print(var_dic_list())"
    },
    "r": {
     "delete_cmd_postfix": ") ",
     "delete_cmd_prefix": "rm(",
     "library": "var_list.r",
     "varRefreshCmd": "cat(var_dic_list()) "
    }
   },
   "types_to_exclude": [
    "module",
    "function",
    "builtin_function_or_method",
    "instance",
    "_Feature"
   ],
   "window_display": false
  }
 },
 "nbformat": 4,
 "nbformat_minor": 2
}
