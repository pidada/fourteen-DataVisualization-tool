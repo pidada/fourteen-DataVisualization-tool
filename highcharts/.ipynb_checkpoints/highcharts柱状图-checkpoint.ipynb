{
 "cells": [
  {
   "cell_type": "markdown",
   "metadata": {},
   "source": [
    "### 绘制柱状图"
   ]
  },
  {
   "cell_type": "code",
   "execution_count": 1,
   "metadata": {
    "code_folding": []
   },
   "outputs": [
    {
     "data": {
      "text/html": [
       "<iframe style=\"border:0;outline:none;overflow:hidden\" srcdoc=\"&lt;!DOCTYPE html&gt; &lt;html lang=&quot;en&quot;&gt; &lt;head&gt; &lt;meta charset=&quot;utf-8&quot; /&gt; &lt;link href=&quot;https://www.highcharts.com/highslide/highslide.css&quot; rel=&quot;stylesheet&quot; /&gt; &lt;script type=&quot;text/javascript&quot; src=&quot;https://ajax.googleapis.com/ajax/libs/jquery/1.9.1/jquery.min.js&quot;&gt;&lt;/script&gt; &lt;script type=&quot;text/javascript&quot; src=&quot;https://code.highcharts.com/6/highcharts.js&quot;&gt;&lt;/script&gt; &lt;script type=&quot;text/javascript&quot; src=&quot;https://code.highcharts.com/6/highcharts-more.js&quot;&gt;&lt;/script&gt; &lt;script type=&quot;text/javascript&quot; src=&quot;https://code.highcharts.com/6/modules/heatmap.js&quot;&gt;&lt;/script&gt; &lt;script type=&quot;text/javascript&quot; src=&quot;https://code.highcharts.com/6/modules/exporting.js&quot;&gt;&lt;/script&gt; &lt;/head&gt; &lt;body style=&quot;margin:0;padding:0&quot;&gt; &lt;div id=&quot;container&quot; style=&quot;width:750px;height:600px;&quot;&gt;Loading....&lt;/div&gt; &lt;script&gt; $(function(){ Highcharts.setOptions({&quot;global&quot;: {}, &quot;lang&quot;: {}}); var option = {&quot;chart&quot;: {&quot;renderTo&quot;: &quot;container&quot;, &quot;width&quot;: 750, &quot;height&quot;: 600, &quot;type&quot;: &quot;bar&quot;}, &quot;colors&quot;: {}, &quot;credits&quot;: {&quot;enabled&quot;: true}, &quot;drilldown&quot;: {}, &quot;exporting&quot;: {}, &quot;labels&quot;: {}, &quot;legend&quot;: {&quot;layout&quot;: &quot;vertical&quot;, &quot;align&quot;: &quot;right&quot;, &quot;verticalAlign&quot;: &quot;top&quot;, &quot;x&quot;: -40, &quot;y&quot;: 80, &quot;floating&quot;: true, &quot;borderWidth&quot;: 2, &quot;backgroundColor&quot;: ((Highcharts.theme &amp;&amp; Highcharts.theme.legendBackgroundColor) || &#x27;#9ACFF0&#x27;), &quot;shadow&quot;: true}, &quot;loading&quot;: {}, &quot;navigation&quot;: {}, &quot;pane&quot;: {}, &quot;plotOptions&quot;: {&quot;bar&quot;: {&quot;dataLabels&quot;: {&quot;enabled&quot;: true}}}, &quot;series&quot;: {}, &quot;subtitle&quot;: {&quot;text&quot;: &quot;Source: &lt;a href=\\&quot;https://en.wikipedia.org/wiki/World_population\\&quot;&gt;Wikipedia.org&lt;/a&gt;&quot;}, &quot;title&quot;: {&quot;text&quot;: &quot;Stacked bar chart&quot;}, &quot;tooltip&quot;: {&quot;valueSuffix&quot;: &quot; millions&quot;}, &quot;xAxis&quot;: {&quot;categories&quot;: [&quot;Africa&quot;, &quot;America&quot;, &quot;Asia&quot;, &quot;Europe&quot;, &quot;Oceania&quot;], &quot;title&quot;: {&quot;text&quot;: &quot;5\\u4e2a\\u6d32&quot;}}, &quot;yAxis&quot;: {&quot;min&quot;: 0, &quot;title&quot;: {&quot;text&quot;: &quot;\\u4eba\\u53e3\\u6570(\\u767e\\u4e07)&quot;, &quot;align&quot;: &quot;high&quot;}, &quot;labels&quot;: {&quot;overflow&quot;: &quot;justify&quot;}}}; var chart = new Highcharts.Chart(option); var data = [{&quot;data&quot;: [107, 31, 235, 203, 24], &quot;type&quot;: &quot;bar&quot;, &quot;name&quot;: &quot;Year 2000&quot;}, {&quot;data&quot;: [133, 156, 947, 868, 106], &quot;type&quot;: &quot;bar&quot;, &quot;name&quot;: &quot;Year 2004&quot;}, {&quot;data&quot;: [373, 914, 854, 732, 34], &quot;type&quot;: &quot;bar&quot;, &quot;name&quot;: &quot;Year 2008&quot;}, {&quot;data&quot;: [652, 954, 1250, 740, 38], &quot;type&quot;: &quot;bar&quot;, &quot;name&quot;: &quot;Year 2012&quot;}]; var dataLen = data.length; for (var ix = 0; ix &lt; dataLen; ix++) { chart.addSeries(data[ix]); } }); &lt;/script&gt; &lt;/body&gt; &lt;/html&gt;\" height=600 width=750></iframe>"
      ],
      "text/plain": [
       "<highcharts.highcharts.highcharts.Highchart at 0x1040a4f10>"
      ]
     },
     "execution_count": 1,
     "metadata": {},
     "output_type": "execute_result"
    }
   ],
   "source": [
    "from highcharts import Highchart   # 导入库 \n",
    "H = Highchart(width=750, height=600)  # 设置图形的大小\n",
    "\n",
    "# 4组数据，代表4个年份\n",
    "# 每组5个数据代表的是5个洲\n",
    "data1 = [107, 31, 235, 203, 24]  \n",
    "data2 = [133, 156, 947, 868, 106]\n",
    "data3 = [373, 914, 854, 732, 34]\n",
    "data4 = [652, 954, 1250, 740, 38]\n",
    "\n",
    "# 进行配置\n",
    "options = {\n",
    "    'chart': {  # 加上chart配置变成水平柱状图\n",
    "        'type': 'bar'\n",
    "    },\n",
    "\t'title': {  # 1、主标题\n",
    "        'text': 'Stacked bar chart' \n",
    "    },\n",
    "    \n",
    "    'subtitle': {   # 2、副标题\n",
    "        'text': 'Source: <a href=\"https://en.wikipedia.org/wiki/World_population\">Wikipedia.org</a>'\n",
    "    },\n",
    "    \n",
    "    'xAxis': {   # 3、横轴的5个分类\n",
    "        'categories': ['Africa', 'America', 'Asia', 'Europe', 'Oceania'],\n",
    "        'title': {\n",
    "            'text': \"5个洲\"   # x轴的名称\n",
    "        }\n",
    "    },\n",
    "    'yAxis': {\n",
    "        'min': 0,  # 设置最小值\n",
    "        'title': {\n",
    "            'text': '人口数(百万)',  # y轴名称\n",
    "            'align': 'high'\n",
    "        },\n",
    "        'labels': {\n",
    "            'overflow': 'justify'\n",
    "        }\n",
    "    },\n",
    "    'tooltip': {\n",
    "        'valueSuffix': ' millions'\n",
    "    },\n",
    "    'legend': {  # 图例设置\n",
    "        'layout': 'vertical',   # 垂直方向\n",
    "        'align': 'right',  # 靠右显示\n",
    "        'verticalAlign': 'top',   # 顶部\n",
    "        'x': -40,\n",
    "        'y': 80,\n",
    "        'floating': True,\n",
    "        'borderWidth': 2,    # 图例外围线条宽度\n",
    "        'backgroundColor': \"((Highcharts.theme && Highcharts.theme.legendBackgroundColor) || '#9ACFF0')\",#图例背景颜色\n",
    "        'shadow': True\n",
    "    },\n",
    "    'credits': {  # 右下角的版权标签\n",
    "        'enabled': True\n",
    "    },\n",
    "    'plotOptions': {\n",
    "        'bar': {\n",
    "            'dataLabels': {\n",
    "                'enabled': True  # 显示数据（柱状图顶部的数据显示出来）\n",
    "            }\n",
    "        }\n",
    "    }\n",
    "}\n",
    "\n",
    "H.set_dict_options(options)   # 添加配置\n",
    "\n",
    "# 每个年份添加一组数据\n",
    "H.add_data_set(data1, 'bar', 'Year 2000')\n",
    "H.add_data_set(data2, 'bar', 'Year 2004')\n",
    "H.add_data_set(data3, 'bar', 'Year 2008')\n",
    "H.add_data_set(data4, 'bar', 'Year 2012')\n",
    "\n",
    "H"
   ]
  },
  {
   "cell_type": "code",
   "execution_count": 2,
   "metadata": {},
   "outputs": [
    {
     "data": {
      "text/html": [
       "<div>\n",
       "<style scoped>\n",
       "    .dataframe tbody tr th:only-of-type {\n",
       "        vertical-align: middle;\n",
       "    }\n",
       "\n",
       "    .dataframe tbody tr th {\n",
       "        vertical-align: top;\n",
       "    }\n",
       "\n",
       "    .dataframe thead th {\n",
       "        text-align: right;\n",
       "    }\n",
       "</style>\n",
       "<table border=\"1\" class=\"dataframe\">\n",
       "  <thead>\n",
       "    <tr style=\"text-align: right;\">\n",
       "      <th></th>\n",
       "      <th>2000</th>\n",
       "      <th>2004</th>\n",
       "      <th>2008</th>\n",
       "      <th>2012</th>\n",
       "    </tr>\n",
       "  </thead>\n",
       "  <tbody>\n",
       "    <tr>\n",
       "      <th>Africa</th>\n",
       "      <td>107</td>\n",
       "      <td>133</td>\n",
       "      <td>373</td>\n",
       "      <td>652</td>\n",
       "    </tr>\n",
       "    <tr>\n",
       "      <th>America</th>\n",
       "      <td>31</td>\n",
       "      <td>156</td>\n",
       "      <td>914</td>\n",
       "      <td>954</td>\n",
       "    </tr>\n",
       "    <tr>\n",
       "      <th>Asia</th>\n",
       "      <td>235</td>\n",
       "      <td>947</td>\n",
       "      <td>854</td>\n",
       "      <td>1250</td>\n",
       "    </tr>\n",
       "    <tr>\n",
       "      <th>Europe</th>\n",
       "      <td>203</td>\n",
       "      <td>868</td>\n",
       "      <td>732</td>\n",
       "      <td>740</td>\n",
       "    </tr>\n",
       "    <tr>\n",
       "      <th>Oceania</th>\n",
       "      <td>24</td>\n",
       "      <td>106</td>\n",
       "      <td>34</td>\n",
       "      <td>38</td>\n",
       "    </tr>\n",
       "  </tbody>\n",
       "</table>\n",
       "</div>"
      ],
      "text/plain": [
       "         2000  2004  2008  2012\n",
       "Africa    107   133   373   652\n",
       "America    31   156   914   954\n",
       "Asia      235   947   854  1250\n",
       "Europe    203   868   732   740\n",
       "Oceania    24   106    34    38"
      ]
     },
     "execution_count": 2,
     "metadata": {},
     "output_type": "execute_result"
    }
   ],
   "source": [
    "# 使用DataFrame数据框\n",
    "\n",
    "import pandas as pd\n",
    "\n",
    "data = pd.DataFrame({\n",
    "    \"2000\": [107, 31, 235, 203, 24],\n",
    "    \"2004\": [133, 156, 947, 868, 106],\n",
    "    \"2008\": [373, 914, 854, 732, 34],\n",
    "    \"2012\": [652, 954, 1250, 740, 38]},\n",
    "    \n",
    "    index=['Africa', 'America', 'Asia', 'Europe', 'Oceania']\n",
    ")\n",
    "\n",
    "data"
   ]
  },
  {
   "cell_type": "code",
   "execution_count": 3,
   "metadata": {},
   "outputs": [
    {
     "data": {
      "text/plain": [
       "[107, 31, 235, 203, 24]"
      ]
     },
     "execution_count": 3,
     "metadata": {},
     "output_type": "execute_result"
    }
   ],
   "source": [
    "# 模拟生成数据\n",
    "\n",
    "data1 = data[\"2000\"].tolist()\n",
    "data1"
   ]
  },
  {
   "cell_type": "code",
   "execution_count": 4,
   "metadata": {},
   "outputs": [
    {
     "data": {
      "text/plain": [
       "[133, 156, 947, 868, 106]"
      ]
     },
     "execution_count": 4,
     "metadata": {},
     "output_type": "execute_result"
    }
   ],
   "source": [
    "data2 = data[\"2004\"].tolist()\n",
    "data2"
   ]
  },
  {
   "cell_type": "code",
   "execution_count": 5,
   "metadata": {},
   "outputs": [
    {
     "data": {
      "text/plain": [
       "['2000', '2004', '2008', '2012']"
      ]
     },
     "execution_count": 5,
     "metadata": {},
     "output_type": "execute_result"
    }
   ],
   "source": [
    "data.columns.tolist()"
   ]
  },
  {
   "cell_type": "code",
   "execution_count": 6,
   "metadata": {},
   "outputs": [
    {
     "data": {
      "text/plain": [
       "['Africa', 'America', 'Asia', 'Europe', 'Oceania']"
      ]
     },
     "execution_count": 6,
     "metadata": {},
     "output_type": "execute_result"
    }
   ],
   "source": [
    "data.index.tolist()"
   ]
  },
  {
   "cell_type": "markdown",
   "metadata": {},
   "source": [
    "### bar with negative stack"
   ]
  },
  {
   "cell_type": "code",
   "execution_count": 7,
   "metadata": {
    "code_folding": [
     4,
     11,
     64,
     70
    ]
   },
   "outputs": [
    {
     "data": {
      "text/html": [
       "<iframe style=\"border:0;outline:none;overflow:hidden\" srcdoc=\"&lt;!DOCTYPE html&gt; &lt;html lang=&quot;en&quot;&gt; &lt;head&gt; &lt;meta charset=&quot;utf-8&quot; /&gt; &lt;link href=&quot;https://www.highcharts.com/highslide/highslide.css&quot; rel=&quot;stylesheet&quot; /&gt; &lt;script type=&quot;text/javascript&quot; src=&quot;https://ajax.googleapis.com/ajax/libs/jquery/1.9.1/jquery.min.js&quot;&gt;&lt;/script&gt; &lt;script type=&quot;text/javascript&quot; src=&quot;https://code.highcharts.com/6/highcharts.js&quot;&gt;&lt;/script&gt; &lt;script type=&quot;text/javascript&quot; src=&quot;https://code.highcharts.com/6/highcharts-more.js&quot;&gt;&lt;/script&gt; &lt;script type=&quot;text/javascript&quot; src=&quot;https://code.highcharts.com/6/modules/heatmap.js&quot;&gt;&lt;/script&gt; &lt;script type=&quot;text/javascript&quot; src=&quot;https://code.highcharts.com/6/modules/exporting.js&quot;&gt;&lt;/script&gt; &lt;/head&gt; &lt;body style=&quot;margin:0;padding:0&quot;&gt; &lt;div id=&quot;container&quot; style=&quot;width:550px;height:400px;&quot;&gt;Loading....&lt;/div&gt; &lt;script&gt; $(function(){ Highcharts.setOptions({&quot;global&quot;: {}, &quot;lang&quot;: {}}); var option = {&quot;chart&quot;: {&quot;renderTo&quot;: &quot;container&quot;, &quot;width&quot;: 550, &quot;height&quot;: 400, &quot;type&quot;: &quot;bar&quot;}, &quot;colors&quot;: {}, &quot;credits&quot;: {&quot;enabled&quot;: false}, &quot;drilldown&quot;: {}, &quot;exporting&quot;: {}, &quot;labels&quot;: {}, &quot;legend&quot;: {}, &quot;loading&quot;: {}, &quot;navigation&quot;: {}, &quot;pane&quot;: {}, &quot;plotOptions&quot;: {&quot;series&quot;: {&quot;stacking&quot;: &quot;normal&quot;}}, &quot;series&quot;: {}, &quot;subtitle&quot;: {&quot;text&quot;: &quot;Source: www.census.gov&quot;}, &quot;title&quot;: {&quot;text&quot;: &quot;Population pyramid for Germany, midyear 2010&quot;}, &quot;tooltip&quot;: {&quot;formatter&quot;: function () { return &#x27;&lt;b&gt;&#x27; + this.series.name + &#x27;, age &#x27; + this.point.category + &#x27;&lt;/b&gt;&lt;br/&gt;&#x27; + &#x27;Population: &#x27; + Highcharts.numberFormat(Math.abs(this.point.y), 0); }}, &quot;xAxis&quot;: [{&quot;categories&quot;: [&quot;0-4&quot;, &quot;5-9&quot;, &quot;10-14&quot;, &quot;15-19&quot;, &quot;20-24&quot;, &quot;25-29&quot;, &quot;30-34&quot;, &quot;35-39&quot;, &quot;40-44&quot;, &quot;45-49&quot;, &quot;50-54&quot;, &quot;55-59&quot;, &quot;60-64&quot;, &quot;65-69&quot;, &quot;70-74&quot;, &quot;75-79&quot;, &quot;80-84&quot;, &quot;85-89&quot;, &quot;90-94&quot;, &quot;95-99&quot;, &quot;100 + &quot;], &quot;reversed&quot;: false, &quot;labels&quot;: {&quot;step&quot;: 1}}, {&quot;opposite&quot;: true, &quot;reversed&quot;: false, &quot;categories&quot;: [&quot;0-4&quot;, &quot;5-9&quot;, &quot;10-14&quot;, &quot;15-19&quot;, &quot;20-24&quot;, &quot;25-29&quot;, &quot;30-34&quot;, &quot;35-39&quot;, &quot;40-44&quot;, &quot;45-49&quot;, &quot;50-54&quot;, &quot;55-59&quot;, &quot;60-64&quot;, &quot;65-69&quot;, &quot;70-74&quot;, &quot;75-79&quot;, &quot;80-84&quot;, &quot;85-89&quot;, &quot;90-94&quot;, &quot;95-99&quot;, &quot;100 + &quot;], &quot;linkedTo&quot;: 0, &quot;labels&quot;: {&quot;step&quot;: 1}}], &quot;yAxis&quot;: {&quot;title&quot;: {&quot;text&quot;: null}, &quot;labels&quot;: {&quot;formatter&quot;: function () { return (Math.abs(this.value) / 1000000) + &#x27;M&#x27;; }}, &quot;min&quot;: -4000000, &quot;max&quot;: 4000000}}; var chart = new Highcharts.Chart(option); var data = [{&quot;data&quot;: [-1746181, -1884428, -2089758, -2222362, -2537431, -2507081, -2443179, -2664537, -3556505, -3680231, -3143062, -2721122, -2229181, -2227768, -2176300, -1329968, -836804, -354784, -90569, -28367, -3878], &quot;type&quot;: &quot;bar&quot;, &quot;name&quot;: &quot;Male&quot;}, {&quot;data&quot;: [1656154, 1787564, 1981671, 2108575, 2403438, 2366003, 2301402, 2519874, 3360596, 3493473, 3050775, 2759560, 2304444, 2426504, 2568938, 1785638, 1447162, 1005011, 330870, 130632, 21208], &quot;type&quot;: &quot;bar&quot;, &quot;name&quot;: &quot;Female&quot;}]; var dataLen = data.length; for (var ix = 0; ix &lt; dataLen; ix++) { chart.addSeries(data[ix]); } }); &lt;/script&gt; &lt;/body&gt; &lt;/html&gt;\" height=400 width=550></iframe>"
      ],
      "text/plain": [
       "<highcharts.highcharts.highcharts.Highchart at 0x10f0f6290>"
      ]
     },
     "execution_count": 7,
     "metadata": {},
     "output_type": "execute_result"
    }
   ],
   "source": [
    "from highcharts import Highchart\n",
    "H = Highchart(width=550, height=400)\n",
    "\n",
    "# 1、数值分类区间\n",
    "categories = ['0-4', '5-9', '10-14', '15-19',\n",
    "              '20-24', '25-29', '30-34', '35-39', \n",
    "              '40-44','45-49', '50-54', '55-59', \n",
    "              '60-64', '65-69','70-74', '75-79', \n",
    "              '80-84', '85-89', '90-94','95-99', '100 + ']\n",
    "# 2、配置项\n",
    "# 在这种图形中横轴和纵轴需要调换\n",
    "options = {\n",
    "\t'chart': {  #  指定图表类型：柱状图\n",
    "        'type': 'bar' \n",
    "    },\n",
    "    'title': {  # 主标题\n",
    "        'text': 'Population pyramid for Germany, midyear 2010'\n",
    "    },\n",
    "    'subtitle': {  # 副标题\n",
    "        'text': 'Source: www.census.gov'\n",
    "    },\n",
    "    'xAxis': [{  # 左侧标签设置\n",
    "        'categories': categories,\n",
    "        'reversed': False,   # 分类区间是否翻转\n",
    "        'labels': {\n",
    "            'step': 1  # 标签区间的间隔\n",
    "        }\n",
    "    }, {   # 右侧标签设置\n",
    "        'opposite': True,\n",
    "        'reversed': False,\n",
    "        'categories': categories,\n",
    "        'linkedTo': 0,\n",
    "        'labels': {\n",
    "            'step': 1\n",
    "        }\n",
    "    }],\n",
    "    'yAxis': {\n",
    "        'title': {\n",
    "            'text': None\n",
    "        },\n",
    "        'labels': {  # y轴标签\n",
    "            'formatter': \"function () {\\\n",
    "                                    return (Math.abs(this.value) / 1000000) + 'M';\\\n",
    "                                }\"\n",
    "        },\n",
    "        'min': -4000000,\n",
    "        'max': 4000000\n",
    "    },\n",
    "\n",
    "    'plotOptions': {\n",
    "        'series': {\n",
    "            'stacking': 'normal'\n",
    "        }\n",
    "    },\n",
    "\n",
    "    'tooltip': {\n",
    "        'formatter': \"function () {\\\n",
    "                            return '<b>' + this.series.name + ', age ' + this.point.category + '</b><br/>' +\\\n",
    "                                'Population: ' + Highcharts.numberFormat(Math.abs(this.point.y), 0);\\\n",
    "                        }\"\n",
    "    },\n",
    "}\n",
    "\n",
    "# 设置男女的数值\n",
    "data_male = [-1746181, -1884428, -2089758, -2222362,\n",
    "             -2537431, -2507081, -2443179, -2664537, \n",
    "             -3556505, -3680231, -3143062, -2721122, \n",
    "             -2229181, -2227768,-2176300, -1329968, \n",
    "             -836804, -354784, -90569, -28367, -3878]\n",
    "\n",
    "data_female = [1656154, 1787564, 1981671, 2108575, \n",
    "               2403438, 2366003, 2301402, 2519874,\n",
    "               3360596, 3493473, 3050775, 2759560, \n",
    "               2304444, 2426504, 2568938, 1785638,\n",
    "               1447162, 1005011, 330870, 130632, 21208]\n",
    "\n",
    "# 添加配置项\n",
    "H.set_dict_options(options)\n",
    "\n",
    "# 添加数据和指定图表类型bar\n",
    "H.add_data_set(data_male, 'bar', 'Male')\n",
    "H.add_data_set(data_female, 'bar', 'Female')\n",
    "\n",
    "H"
   ]
  },
  {
   "cell_type": "markdown",
   "metadata": {},
   "source": [
    "###  堆叠柱状图-stack bar"
   ]
  },
  {
   "cell_type": "code",
   "execution_count": 8,
   "metadata": {},
   "outputs": [
    {
     "data": {
      "text/html": [
       "<iframe style=\"border:0;outline:none;overflow:hidden\" srcdoc=\"&lt;!DOCTYPE html&gt; &lt;html lang=&quot;en&quot;&gt; &lt;head&gt; &lt;meta charset=&quot;utf-8&quot; /&gt; &lt;link href=&quot;https://www.highcharts.com/highslide/highslide.css&quot; rel=&quot;stylesheet&quot; /&gt; &lt;script type=&quot;text/javascript&quot; src=&quot;https://ajax.googleapis.com/ajax/libs/jquery/1.9.1/jquery.min.js&quot;&gt;&lt;/script&gt; &lt;script type=&quot;text/javascript&quot; src=&quot;https://code.highcharts.com/6/highcharts.js&quot;&gt;&lt;/script&gt; &lt;script type=&quot;text/javascript&quot; src=&quot;https://code.highcharts.com/6/highcharts-more.js&quot;&gt;&lt;/script&gt; &lt;script type=&quot;text/javascript&quot; src=&quot;https://code.highcharts.com/6/modules/heatmap.js&quot;&gt;&lt;/script&gt; &lt;script type=&quot;text/javascript&quot; src=&quot;https://code.highcharts.com/6/modules/exporting.js&quot;&gt;&lt;/script&gt; &lt;/head&gt; &lt;body style=&quot;margin:0;padding:0&quot;&gt; &lt;div id=&quot;container&quot; style=&quot;width:800px;height:600px;&quot;&gt;Loading....&lt;/div&gt; &lt;script&gt; $(function(){ Highcharts.setOptions({&quot;global&quot;: {}, &quot;lang&quot;: {}}); var option = {&quot;chart&quot;: {&quot;renderTo&quot;: &quot;container&quot;, &quot;width&quot;: 800, &quot;height&quot;: 600, &quot;type&quot;: &quot;bar&quot;}, &quot;colors&quot;: {}, &quot;credits&quot;: {&quot;enabled&quot;: false}, &quot;drilldown&quot;: {}, &quot;exporting&quot;: {}, &quot;labels&quot;: {}, &quot;legend&quot;: {&quot;reversed&quot;: true}, &quot;loading&quot;: {}, &quot;navigation&quot;: {}, &quot;pane&quot;: {}, &quot;plotOptions&quot;: {&quot;series&quot;: {&quot;stacking&quot;: &quot;normal&quot;}}, &quot;series&quot;: {}, &quot;subtitle&quot;: {}, &quot;title&quot;: {&quot;text&quot;: &quot;Stacked bar chart&quot;}, &quot;tooltip&quot;: {}, &quot;xAxis&quot;: {&quot;categories&quot;: [&quot;Apples&quot;, &quot;Oranges&quot;, &quot;Pears&quot;, &quot;Grapes&quot;, &quot;Bananas&quot;]}, &quot;yAxis&quot;: {&quot;min&quot;: 0, &quot;title&quot;: {&quot;text&quot;: &quot;Total fruit consumption&quot;}}}; var chart = new Highcharts.Chart(option); var data = [{&quot;data&quot;: [5, 3, 4, 7, 2], &quot;type&quot;: &quot;bar&quot;, &quot;name&quot;: &quot;John&quot;}, {&quot;data&quot;: [2, 2, 3, 2, 1], &quot;type&quot;: &quot;bar&quot;, &quot;name&quot;: &quot;Jane&quot;}, {&quot;data&quot;: [3, 4, 4, 2, 5], &quot;type&quot;: &quot;bar&quot;, &quot;name&quot;: &quot;Joe&quot;}]; var dataLen = data.length; for (var ix = 0; ix &lt; dataLen; ix++) { chart.addSeries(data[ix]); } }); &lt;/script&gt; &lt;/body&gt; &lt;/html&gt;\" height=600 width=800></iframe>"
      ],
      "text/plain": [
       "<highcharts.highcharts.highcharts.Highchart at 0x10f0ccc50>"
      ]
     },
     "execution_count": 8,
     "metadata": {},
     "output_type": "execute_result"
    }
   ],
   "source": [
    "from highcharts import Highchart   # 导入库 \n",
    "H = Highchart(width=800, height=600)  # 设置图形的大小\n",
    "\n",
    "# 配置数据项\n",
    "data1 = [5, 3, 4, 7, 2]\n",
    "data2 = [2, 2, 3, 2, 1]\n",
    "data3 = [3, 4, 4, 2, 5]\n",
    "\n",
    "options = {\n",
    "    'chart': {\n",
    "        'type': 'bar'  # 图表类型\n",
    "    },\n",
    "    'title': {  # 主标题\n",
    "        'text': 'Stacked bar chart'\n",
    "    },\n",
    "    'xAxis': {\n",
    "        'categories': ['Apples', 'Oranges', 'Pears', 'Grapes', 'Bananas']\n",
    "    },\n",
    "    'yAxis': {\n",
    "        'min': 0,\n",
    "        'title': {\n",
    "            'text': 'Total fruit consumption'\n",
    "        }\n",
    "    },\n",
    "    'legend': {\n",
    "        'reversed': True\n",
    "    },\n",
    "    'plotOptions': {\n",
    "        'series': {\n",
    "            'stacking': 'normal'\n",
    "        }\n",
    "    }\n",
    "}\n",
    "\n",
    "H.set_dict_options(options)   # 添加配置\n",
    "\n",
    "H.add_data_set(data1,'bar','John')\n",
    "H.add_data_set(data2,'bar','Jane')\n",
    "H.add_data_set(data3,'bar','Joe')\n",
    "\n",
    "H"
   ]
  },
  {
   "cell_type": "markdown",
   "metadata": {},
   "source": [
    "### 带有负值的柱状图"
   ]
  },
  {
   "cell_type": "code",
   "execution_count": null,
   "metadata": {},
   "outputs": [
    {
     "data": {
      "text/html": [
       "<iframe style=\"border:0;outline:none;overflow:hidden\" srcdoc=\"&lt;!DOCTYPE html&gt; &lt;html lang=&quot;en&quot;&gt; &lt;head&gt; &lt;meta charset=&quot;utf-8&quot; /&gt; &lt;link href=&quot;https://www.highcharts.com/highslide/highslide.css&quot; rel=&quot;stylesheet&quot; /&gt; &lt;script type=&quot;text/javascript&quot; src=&quot;https://ajax.googleapis.com/ajax/libs/jquery/1.9.1/jquery.min.js&quot;&gt;&lt;/script&gt; &lt;script type=&quot;text/javascript&quot; src=&quot;https://code.highcharts.com/6/highcharts.js&quot;&gt;&lt;/script&gt; &lt;script type=&quot;text/javascript&quot; src=&quot;https://code.highcharts.com/6/highcharts-more.js&quot;&gt;&lt;/script&gt; &lt;script type=&quot;text/javascript&quot; src=&quot;https://code.highcharts.com/6/modules/heatmap.js&quot;&gt;&lt;/script&gt; &lt;script type=&quot;text/javascript&quot; src=&quot;https://code.highcharts.com/6/modules/exporting.js&quot;&gt;&lt;/script&gt; &lt;/head&gt; &lt;body style=&quot;margin:0;padding:0&quot;&gt; &lt;div id=&quot;container&quot; style=&quot;width:800px;height:600px;&quot;&gt;Loading....&lt;/div&gt; &lt;script&gt; $(function(){ Highcharts.setOptions({&quot;global&quot;: {}, &quot;lang&quot;: {}}); var option = {&quot;chart&quot;: {&quot;renderTo&quot;: &quot;container&quot;, &quot;width&quot;: 800, &quot;height&quot;: 600, &quot;type&quot;: &quot;column&quot;}, &quot;colors&quot;: {}, &quot;credits&quot;: {&quot;enabled&quot;: false}, &quot;drilldown&quot;: {}, &quot;exporting&quot;: {}, &quot;labels&quot;: {}, &quot;legend&quot;: {&quot;reversed&quot;: true}, &quot;loading&quot;: {}, &quot;navigation&quot;: {}, &quot;pane&quot;: {}, &quot;plotOptions&quot;: {}, &quot;series&quot;: {}, &quot;subtitle&quot;: {}, &quot;title&quot;: {&quot;text&quot;: &quot;column with negative values&quot;}, &quot;tooltip&quot;: {}, &quot;xAxis&quot;: {&quot;categories&quot;: [&quot;Apples&quot;, &quot;Oranges&quot;, &quot;Pears&quot;, &quot;Grapes&quot;, &quot;Bananas&quot;]}, &quot;yAxis&quot;: {}}; var chart = new Highcharts.Chart(option); var data = [{&quot;data&quot;: [5, 3, -4, 7, 2], &quot;type&quot;: &quot;bar&quot;, &quot;name&quot;: &quot;John&quot;}, {&quot;data&quot;: [2, 2, 3, -2, 1], &quot;type&quot;: &quot;bar&quot;, &quot;name&quot;: &quot;Jane&quot;}, {&quot;data&quot;: [-3, 4, 4, 2, 5], &quot;type&quot;: &quot;bar&quot;, &quot;name&quot;: &quot;Joe&quot;}]; var dataLen = data.length; for (var ix = 0; ix &lt; dataLen; ix++) { chart.addSeries(data[ix]); } }); &lt;/script&gt; &lt;/body&gt; &lt;/html&gt;\" height=600 width=800></iframe>"
      ],
      "text/plain": [
       "<highcharts.highcharts.highcharts.Highchart at 0x10f0d2c90>"
      ]
     },
     "execution_count": 9,
     "metadata": {},
     "output_type": "execute_result"
    }
   ],
   "source": [
    "from highcharts import Highchart   # 导入库 \n",
    "H = Highchart(width=800, height=600)  # 设置图形的大小\n",
    "\n",
    "# 配置数据项\n",
    "data1 = [5, 3, -4, 7, 2]\n",
    "data2 = [2, 2, 3, -2, 1]\n",
    "data3 = [-3, 4, 4, 2, 5]\n",
    "\n",
    "options = {\n",
    "    'chart': {  # 图表类型不是bar，而是column\n",
    "        'type': 'column'  \n",
    "    },\n",
    "    'title': {  # 主标题\n",
    "        'text': 'column with negative values'\n",
    "    },\n",
    "    'xAxis': {\n",
    "        'categories': ['Apples', 'Oranges', 'Pears', 'Grapes', 'Bananas']\n",
    "    },\n",
    "    'legend': {\n",
    "        'reversed': True\n",
    "    },\n",
    "    'credits': {\n",
    "        'enabled': False\n",
    "    }\n",
    "}\n",
    "\n",
    "H.set_dict_options(options)   # 添加配置\n",
    "H.add_data_set(data1,'bar','John')\n",
    "H.add_data_set(data2,'bar','Jane')\n",
    "H.add_data_set(data3,'bar','Joe')\n",
    "\n",
    "H"
   ]
  },
  {
   "cell_type": "code",
   "execution_count": null,
   "metadata": {},
   "outputs": [],
   "source": []
  }
 ],
 "metadata": {
  "hide_input": false,
  "kernelspec": {
   "display_name": "Python 3",
   "language": "python",
   "name": "python3"
  },
  "language_info": {
   "codemirror_mode": {
    "name": "ipython",
    "version": 3
   },
   "file_extension": ".py",
   "mimetype": "text/x-python",
   "name": "python",
   "nbconvert_exporter": "python",
   "pygments_lexer": "ipython3",
   "version": "3.7.5"
  },
  "latex_envs": {
   "LaTeX_envs_menu_present": true,
   "autoclose": false,
   "autocomplete": true,
   "bibliofile": "biblio.bib",
   "cite_by": "apalike",
   "current_citInitial": 1,
   "eqLabelWithNumbers": true,
   "eqNumInitial": 1,
   "hotkeys": {
    "equation": "Ctrl-E",
    "itemize": "Ctrl-I"
   },
   "labels_anchors": false,
   "latex_user_defs": false,
   "report_style_numbering": false,
   "user_envs_cfg": false
  },
  "nbTranslate": {
   "displayLangs": [
    "*"
   ],
   "hotkey": "alt-t",
   "langInMainMenu": true,
   "sourceLang": "en",
   "targetLang": "fr",
   "useGoogleTranslate": true
  },
  "toc": {
   "base_numbering": 1,
   "nav_menu": {},
   "number_sections": true,
   "sideBar": true,
   "skip_h1_title": false,
   "title_cell": "Table of Contents",
   "title_sidebar": "Contents",
   "toc_cell": false,
   "toc_position": {},
   "toc_section_display": true,
   "toc_window_display": false
  },
  "varInspector": {
   "cols": {
    "lenName": 16,
    "lenType": 16,
    "lenVar": 40
   },
   "kernels_config": {
    "python": {
     "delete_cmd_postfix": "",
     "delete_cmd_prefix": "del ",
     "library": "var_list.py",
     "varRefreshCmd": "print(var_dic_list())"
    },
    "r": {
     "delete_cmd_postfix": ") ",
     "delete_cmd_prefix": "rm(",
     "library": "var_list.r",
     "varRefreshCmd": "cat(var_dic_list()) "
    }
   },
   "types_to_exclude": [
    "module",
    "function",
    "builtin_function_or_method",
    "instance",
    "_Feature"
   ],
   "window_display": false
  }
 },
 "nbformat": 4,
 "nbformat_minor": 2
}
