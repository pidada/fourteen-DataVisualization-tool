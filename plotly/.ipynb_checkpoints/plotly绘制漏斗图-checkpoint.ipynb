{
 "cells": [
  {
   "cell_type": "code",
   "execution_count": null,
   "metadata": {},
   "outputs": [],
   "source": [
    "import pandas as pd\n",
    "import numpy as np\n",
    "\n",
    "# plotly两个绘图接口\n",
    "import plotly_express  as px\n",
    "import plotly.graph_objects as go"
   ]
  },
  {
   "cell_type": "markdown",
   "metadata": {},
   "source": [
    "## 基于px实现"
   ]
  },
  {
   "cell_type": "markdown",
   "metadata": {},
   "source": [
    "### 基础漏斗图"
   ]
  },
  {
   "cell_type": "code",
   "execution_count": null,
   "metadata": {},
   "outputs": [],
   "source": [
    "data = dict(\n",
    "    number=[1200,900,700,400,180,100],\n",
    "    stage=[\"浏览网站\",\"搜索\",\"加购\",\"提交订单\",\"点击支付\",\"支付成功\"]\n",
    ")\n",
    "\n",
    "data"
   ]
  },
  {
   "cell_type": "code",
   "execution_count": null,
   "metadata": {},
   "outputs": [],
   "source": [
    "data1 = pd.DataFrame({\n",
    "    \"number\": [1200,900,700,400,180,100],\n",
    "    \"stage\": [\"浏览网站\",\"搜索\",\"加购\",\"提交订单\",\"点击支付\",\"支付成功\"]}\n",
    ")\n",
    "data1"
   ]
  },
  {
   "cell_type": "code",
   "execution_count": null,
   "metadata": {},
   "outputs": [],
   "source": [
    "# 绘图\n",
    "fig = px.funnel(\n",
    "    data1,\n",
    "    x=\"number\",\n",
    "    y=\"stage\"\n",
    ")\n",
    "\n",
    "fig.show()"
   ]
  },
  {
   "cell_type": "code",
   "execution_count": null,
   "metadata": {},
   "outputs": [],
   "source": [
    "# 加上颜色参数color\n",
    "\n",
    "fig = px.funnel(data1,\n",
    "                x=\"number\",\n",
    "                y=\"stage\",\n",
    "                color=\"stage\"\n",
    "               )\n",
    "\n",
    "fig.show()"
   ]
  },
  {
   "cell_type": "code",
   "execution_count": null,
   "metadata": {},
   "outputs": [],
   "source": [
    "# 加上颜色参数color\n",
    "\n",
    "fig = px.funnel(\n",
    "  data1[::-1],   # ！！！数据翻转\n",
    "  x=\"number\",\n",
    "  y=\"stage\",\n",
    "  color=\"stage\"   # ！！！改成stage\n",
    ")\n",
    "\n",
    "fig.show()"
   ]
  },
  {
   "cell_type": "markdown",
   "metadata": {},
   "source": [
    "### 分组漏斗"
   ]
  },
  {
   "cell_type": "code",
   "execution_count": null,
   "metadata": {},
   "outputs": [],
   "source": [
    "# 2020年3月数据\n",
    "\n",
    "stage=[\"浏览网站\",\"加购\",\"点击支付\",\"支付成功\"]\n",
    "\n",
    "df1 = pd.DataFrame(dict(\n",
    "    number=[1000,800,400,100],\n",
    "    stages=stage\n",
    "))\n",
    "\n",
    "df1[\"time\"] = \"2020年3月\"\n",
    "df1"
   ]
  },
  {
   "cell_type": "code",
   "execution_count": null,
   "metadata": {},
   "outputs": [],
   "source": [
    "# 2021年3月份\n",
    "\n",
    "stage=[\"浏览网站\",\"加购\",\"点击支付\",\"支付成功\"]\n",
    "df2 = pd.DataFrame(dict(\n",
    "    number=[1200,600,300,140],\n",
    "    stages=stage\n",
    "))\n",
    "\n",
    "df2[\"time\"] = \"2021年3月\"\n",
    "df2"
   ]
  },
  {
   "cell_type": "code",
   "execution_count": null,
   "metadata": {},
   "outputs": [],
   "source": [
    "# 将两组数据合并\n",
    "df3 = pd.concat([df1, df2], axis=0)\n",
    "df3"
   ]
  },
  {
   "cell_type": "code",
   "execution_count": null,
   "metadata": {},
   "outputs": [],
   "source": [
    "# 绘图\n",
    "\n",
    "fig = px.funnel(df3,x=\"number\",y=\"stages\",color=\"time\")\n",
    "fig.show()"
   ]
  },
  {
   "cell_type": "markdown",
   "metadata": {},
   "source": [
    "### 面积漏斗"
   ]
  },
  {
   "cell_type": "code",
   "execution_count": null,
   "metadata": {},
   "outputs": [],
   "source": [
    "data1"
   ]
  },
  {
   "cell_type": "code",
   "execution_count": null,
   "metadata": {},
   "outputs": [],
   "source": [
    "fig = px.funnel_area(\n",
    "    data1,\n",
    "    names = \"stage\",\n",
    "    values = \"number\",\n",
    ")\n",
    "\n",
    "fig.show()"
   ]
  },
  {
   "cell_type": "markdown",
   "metadata": {},
   "source": [
    "## 基于go实现"
   ]
  },
  {
   "cell_type": "markdown",
   "metadata": {},
   "source": [
    "### 基础漏斗图"
   ]
  },
  {
   "cell_type": "code",
   "execution_count": null,
   "metadata": {},
   "outputs": [],
   "source": [
    "from plotly import graph_objects as go\n",
    "\n",
    "fig = go.Figure(go.Funnel(\n",
    "    x=[1000,800,400,100],\n",
    "    y=[\"浏览网站\",\"加购\",\"点击支付\",\"支付成功\"]\n",
    "))\n",
    "\n",
    "fig.show()"
   ]
  },
  {
   "cell_type": "markdown",
   "metadata": {},
   "source": [
    "### 设置漏斗图颜色和大小"
   ]
  },
  {
   "cell_type": "code",
   "execution_count": null,
   "metadata": {},
   "outputs": [],
   "source": [
    "from plotly import graph_objects as go\n",
    "\n",
    "fig = go.Figure(go.Funnel(\n",
    "    x=[1000,800,400,100],  # 数据\n",
    "    y=[\"浏览网站\",\"加购\",\"点击支付\",\"支付成功\"], # 每个阶段的名称\n",
    "    textposition = \"inside\",  #  文本位置：['inside', 'outside', 'auto', 'none'] \n",
    "    textinfo = \"value + percent initial\",   # 显示文本信息 ['label', 'text', 'percent initial', 'percent previous', 'percent total', 'value'] 前面选项的任意组合\n",
    "    opacity = 0.65, \n",
    "    marker = {\"color\": [\"deepskyblue\", \"lightsalmon\", \"tan\", \"silver\"],\n",
    "              \"line\": {\"width\": [4, 2, 3, 1, 1], \n",
    "                       \"color\": [\"wheat\", \"wheat\", \"blue\", \"yellow\"]}},\n",
    "    connector = {\"line\": {\"color\": \"royalblue\", \"dash\": \"dot\", \"width\": 3}})\n",
    "    )\n",
    "\n",
    "fig.show()"
   ]
  },
  {
   "cell_type": "code",
   "execution_count": null,
   "metadata": {},
   "outputs": [],
   "source": [
    "from plotly import graph_objects as go\n",
    "\n",
    "fig = go.Figure(go.Funnel(\n",
    "    x=[1000,800,400,100],  # 数据\n",
    "    y=[\"浏览网站\",\"加购\",\"点击支付\",\"支付成功\"], # 每个阶段的名称\n",
    "    textposition = \"inside\",  #  文本位置：['inside', 'outside', 'auto', 'none'] \n",
    "    textinfo = \"value + percent previous\",   # 显示文本信息 ['label', 'text', 'percent initial', 'percent previous', 'percent total', 'value'] 前面选项的任意组合\n",
    "    opacity = 0.65, \n",
    "    marker = {\"color\": [\"deepskyblue\", \"lightsalmon\", \"tan\", \"silver\"],\n",
    "              \"line\": {\"width\": [4, 2, 3, 1, 1], \n",
    "                       \"color\": [\"wheat\", \"wheat\", \"blue\", \"yellow\"]}},\n",
    "    connector = {\"line\": {\"color\": \"royalblue\", \"dash\": \"dot\", \"width\": 3}})\n",
    "    )\n",
    "\n",
    "fig.show()"
   ]
  },
  {
   "cell_type": "code",
   "execution_count": null,
   "metadata": {},
   "outputs": [],
   "source": [
    "from plotly import graph_objects as go\n",
    "\n",
    "fig = go.Figure(go.Funnel(\n",
    "    x=[1000,800,400,100],  # 数据\n",
    "    y=[\"浏览网站\",\"加购\",\"点击支付\",\"支付成功\"], # 每个阶段的名称\n",
    "    textposition = \"inside\",  #  文本位置：['inside', 'outside', 'auto', 'none'] \n",
    "    textinfo = \"value + percent total\",   # 显示文本信息 ['label', 'text', 'percent initial', 'percent previous', 'percent total', 'value'] 前面选项的任意组合\n",
    "    opacity = 0.65, \n",
    "    marker = {\"color\": [\"deepskyblue\", \"lightsalmon\", \"tan\", \"silver\"],\n",
    "              \"line\": {\"width\": [4, 2, 3, 1, 1], \n",
    "                       \"color\": [\"wheat\", \"wheat\", \"blue\", \"yellow\"]}},\n",
    "    connector = {\"line\": {\"color\": \"royalblue\", \"dash\": \"dot\", \"width\": 3}})\n",
    "    )\n",
    "\n",
    "fig.show()"
   ]
  },
  {
   "cell_type": "code",
   "execution_count": null,
   "metadata": {},
   "outputs": [],
   "source": [
    " 100 / (1000+800+400+100)"
   ]
  },
  {
   "cell_type": "markdown",
   "metadata": {},
   "source": [
    "### 分组漏斗"
   ]
  },
  {
   "cell_type": "code",
   "execution_count": null,
   "metadata": {},
   "outputs": [],
   "source": [
    "from plotly import graph_objects as go\n",
    "\n",
    "stage = [\"浏览网站\",\"加购\",\"点击支付\",\"支付成功\"]\n",
    "\n",
    "fig = go.Figure()\n",
    "\n",
    "fig.add_trace(go.Funnel(\n",
    "    name = \"2020年3月\",  # 图形轨迹名称\n",
    "    x = [1000,800,400,200],  # 数据\n",
    "    y = stage, # 每个阶段名称\n",
    "    orientation = \"h\",  # 方位\n",
    "    textposition = \"inside\",  # 文本内容的位置\n",
    "    textinfo = \"value+percent previous\"  # 显示文本内容\n",
    "))\n",
    "\n",
    "\n",
    "fig.add_trace(go.Funnel(\n",
    "    name = \"2021年2月\",   # 名称和数据需要改变\n",
    "    x = [1200,900,500,240],  \n",
    "    y = stage, \n",
    "    orientation = \"h\",  \n",
    "    textposition = \"inside\",  \n",
    "    textinfo = \"value+percent total\"  \n",
    "))\n",
    "\n",
    "fig.add_trace(go.Funnel(\n",
    "    name = \"2021年3月\",  # 名称和数据需要改变\n",
    "    x = [1500,1000,450,300],  \n",
    "    y = stage, \n",
    "    orientation = \"h\",  \n",
    "    textposition = \"inside\",  \n",
    "    textinfo = \"label+percent initial\"  \n",
    "))\n",
    "\n",
    "\n",
    "fig.show()"
   ]
  },
  {
   "cell_type": "markdown",
   "metadata": {},
   "source": [
    "### 面积漏斗图"
   ]
  },
  {
   "cell_type": "code",
   "execution_count": null,
   "metadata": {},
   "outputs": [],
   "source": [
    "from plotly import graph_objects as go\n",
    "\n",
    "fig = go.Figure(go.Funnelarea(\n",
    "    text = [\"浏览网站\",\"加购\",\"点击支付\",\"支付成功\"],\n",
    "    values = [5000, 2000, 800, 500],\n",
    "\n",
    "))\n",
    "\n",
    "fig.show()"
   ]
  },
  {
   "cell_type": "markdown",
   "metadata": {},
   "source": [
    "### 设置面积漏斗图"
   ]
  },
  {
   "cell_type": "code",
   "execution_count": null,
   "metadata": {
    "scrolled": false
   },
   "outputs": [],
   "source": [
    "from plotly import graph_objects as go\n",
    "\n",
    "fig = go.Figure(go.Funnelarea(\n",
    "    values = [3000, 2000, 800, 500], \n",
    "    text = [\"浏览网站\",\"加购\",\"点击支付\",\"支付成功\"],\n",
    "    marker = {\"colors\": [\"deepskyblue\", \"lightsalmon\", \"teal\", \"silver\"],\n",
    "              \"line\": {\"color\": [\"red\", \"blue\", \"wheat\", \"wheat\"], \n",
    "                       \"width\": [0, 1, 3, 5]}},\n",
    "    textfont = {\"family\": \"Old Standard TT, serif\", \"size\": 13, \n",
    "                \"color\": \"black\"}, \n",
    "    opacity = 0.65))\n",
    "fig.show()"
   ]
  },
  {
   "cell_type": "markdown",
   "metadata": {},
   "source": [
    "## 多组面积漏斗"
   ]
  },
  {
   "cell_type": "code",
   "execution_count": null,
   "metadata": {},
   "outputs": [],
   "source": [
    "from plotly import graph_objects as go\n",
    "\n",
    "fig = go.Figure()\n",
    "\n",
    "# 添加四组数据：第一季度到第四季度\n",
    "fig.add_trace(go.Funnelarea(\n",
    "    scalegroup = \"first\",   # 组别名称\n",
    "    text = [\"浏览网站\",\"搜索\",\"加购\",\"提交订单\",\"点击支付\",\"支付成功\"],\n",
    "    values = [500, 450, 340, 230, 220, 110],  # 数据\n",
    "    textinfo = \"value\",  # 显示文本信息\n",
    "    title = {\"position\": \"top center\",  # 标题顶部居中\n",
    "             \"text\": \"第一季度\"  # 标题内容\n",
    "            },\n",
    "    domain = {\"x\": [0, 0.5], # 图形位置\n",
    "              \"y\": [0, 0.5]\n",
    "             }))\n",
    "\n",
    "fig.add_trace(go.Funnelarea(\n",
    "    scalegroup = \"first\", \n",
    "    text = [\"浏览网站\",\"搜索\",\"加购\",\"提交订单\",\"点击支付\",\"支付成功\"],\n",
    "    values = [600, 500, 400, 300, 200, 100], \n",
    "    textinfo = \"value\",\n",
    "    title = {\"position\": \"top center\", \n",
    "             \"text\": \"第二季度\"},\n",
    "    domain = {\"x\": [0, 0.5], \n",
    "              \"y\": [0.55, 1]}))\n",
    "\n",
    "fig.add_trace(go.Funnelarea(\n",
    "    scalegroup = \"second\", \n",
    "    text = [\"浏览网站\",\"搜索\",\"加购\",\"提交订单\",\"点击支付\",\"支付成功\"],\n",
    "    values = [510, 480, 440, 330, 220, 100], \n",
    "    textinfo = \"value\",\n",
    "    title = {\"position\": \"top left\", \n",
    "             \"text\": \"第三季度\"},\n",
    "    domain = {\"x\": [0.55, 1], \n",
    "              \"y\": [0, 0.5]}))\n",
    "\n",
    "fig.add_trace(go.Funnelarea(\n",
    "    scalegroup = \"second\", \n",
    "    text = [\"浏览网站\",\"搜索\",\"加购\",\"提交订单\",\"点击支付\",\"支付成功\"],\n",
    "    values = [360, 250, 240, 130, 120, 60],\n",
    "    textinfo = \"value\", \n",
    "    title = {\"position\": \"top right\", \n",
    "             \"text\": \"第四季度\"},\n",
    "    domain = {\"x\": [0.55, 1], \n",
    "              \"y\": [0.55, 1]}))\n",
    "\n",
    "fig.update_layout(\n",
    "    margin = {\"l\": 100, \"r\": 100},   # 整个图形到左右边框的距离\n",
    "    shapes = [\n",
    "            {\"x0\": 0, \"x1\": 0.5, \"y0\": 0, \"y1\": 0.5},   # 添加4组位置\n",
    "            {\"x0\": 0, \"x1\": 0.5, \"y0\": 0.55, \"y1\": 1},\n",
    "            {\"x0\": 0.55, \"x1\": 1, \"y0\": 0, \"y1\": 0.5},\n",
    "            {\"x0\": 0.55, \"x1\": 1, \"y0\": 0.55, \"y1\": 1}\n",
    "    ])\n",
    "\n",
    "fig.show()"
   ]
  },
  {
   "cell_type": "code",
   "execution_count": null,
   "metadata": {},
   "outputs": [],
   "source": []
  }
 ],
 "metadata": {
  "hide_input": false,
  "kernelspec": {
   "display_name": "Python 3",
   "language": "python",
   "name": "python3"
  },
  "language_info": {
   "codemirror_mode": {
    "name": "ipython",
    "version": 3
   },
   "file_extension": ".py",
   "mimetype": "text/x-python",
   "name": "python",
   "nbconvert_exporter": "python",
   "pygments_lexer": "ipython3",
   "version": "3.7.5"
  },
  "latex_envs": {
   "LaTeX_envs_menu_present": true,
   "autoclose": false,
   "autocomplete": true,
   "bibliofile": "biblio.bib",
   "cite_by": "apalike",
   "current_citInitial": 1,
   "eqLabelWithNumbers": true,
   "eqNumInitial": 1,
   "hotkeys": {
    "equation": "Ctrl-E",
    "itemize": "Ctrl-I"
   },
   "labels_anchors": false,
   "latex_user_defs": false,
   "report_style_numbering": false,
   "user_envs_cfg": false
  },
  "nbTranslate": {
   "displayLangs": [
    "*"
   ],
   "hotkey": "alt-t",
   "langInMainMenu": true,
   "sourceLang": "en",
   "targetLang": "fr",
   "useGoogleTranslate": true
  },
  "toc": {
   "base_numbering": 1,
   "nav_menu": {},
   "number_sections": true,
   "sideBar": true,
   "skip_h1_title": false,
   "title_cell": "Table of Contents",
   "title_sidebar": "Contents",
   "toc_cell": false,
   "toc_position": {},
   "toc_section_display": true,
   "toc_window_display": false
  },
  "varInspector": {
   "cols": {
    "lenName": 16,
    "lenType": 16,
    "lenVar": 40
   },
   "kernels_config": {
    "python": {
     "delete_cmd_postfix": "",
     "delete_cmd_prefix": "del ",
     "library": "var_list.py",
     "varRefreshCmd": "print(var_dic_list())"
    },
    "r": {
     "delete_cmd_postfix": ") ",
     "delete_cmd_prefix": "rm(",
     "library": "var_list.r",
     "varRefreshCmd": "cat(var_dic_list()) "
    }
   },
   "types_to_exclude": [
    "module",
    "function",
    "builtin_function_or_method",
    "instance",
    "_Feature"
   ],
   "window_display": false
  }
 },
 "nbformat": 4,
 "nbformat_minor": 2
}
